{
 "cells": [
  {
   "cell_type": "code",
   "execution_count": 1,
   "id": "f5311997-73d3-4984-bd07-50571e7fd693",
   "metadata": {},
   "outputs": [
    {
     "name": "stdout",
     "output_type": "stream",
     "text": [
      "CPU times: user 3 s, sys: 933 ms, total: 3.94 s\n",
      "Wall time: 9 s\n"
     ]
    }
   ],
   "source": [
    "%%time\n",
    "from sentence_transformers import SentenceTransformer\n",
    "model = SentenceTransformer('sentence-transformers/all-distilroberta-v1')"
   ]
  },
  {
   "cell_type": "code",
   "execution_count": 2,
   "id": "0ccf8e96-462b-4bf7-b9ce-3be7d5fd95cb",
   "metadata": {},
   "outputs": [],
   "source": [
    "import random\n",
    "import numpy as np\n",
    "import pandas as pd\n",
    "import time\n",
    "import redis\n",
    "from redis.commands.search.field import VectorField\n",
    "from redis.commands.search.field import TextField\n",
    "from redis.commands.search.field import TagField\n",
    "from redis.commands.search.query import Query\n",
    "from redis.commands.search.result import Result\n"
   ]
  },
  {
   "cell_type": "code",
   "execution_count": 3,
   "id": "41acfa4c-e2d2-4cc3-abc5-b31702a4319d",
   "metadata": {},
   "outputs": [],
   "source": [
    "import json\n",
    "from tqdm.contrib.concurrent import process_map\n",
    "from multiprocessing import cpu_count\n",
    "import redis\n"
   ]
  },
  {
   "cell_type": "markdown",
   "id": "48abd2eb-f4a8-417e-b184-755a9f41f574",
   "metadata": {},
   "source": [
    "## Check connection to MemoryMind  and cleanup data if needed (Only sample dont run FLUSHALL in production) "
   ]
  },
  {
   "cell_type": "code",
   "execution_count": 4,
   "id": "3002d531-b8ab-4e76-bcdc-c46512d8adfa",
   "metadata": {},
   "outputs": [
    {
     "data": {
      "text/plain": [
       "True"
      ]
     },
     "execution_count": 4,
     "metadata": {},
     "output_type": "execute_result"
    }
   ],
   "source": [
    "client_dev = redis.Redis(host = 'memoryd-rag-0001-001.memoryd-rag.ghlaqp.memorydb.us-east-1.amazonaws.com', port=6379, \n",
    "                     decode_responses=True, ssl=True, ssl_cert_reqs=\"none\"\n",
    "                      )\n",
    "client_dev.ping()\n",
    "\n",
    "#flush all data\n",
    "#client_devo.flushall()"
   ]
  },
  {
   "cell_type": "markdown",
   "id": "9e56c4d0-f72d-4526-bcd6-f6e92270aeaa",
   "metadata": {},
   "source": [
    " ##  Copy the data set locally.\n",
    "Before we can run any queries, we need to download the Amazon Product Question and Answer data from : https://registry.opendata.aws/amazon-pqa/\n",
    "#### Let's start by having a look at all the files in the dataset. Uncomment the below line to list all options "
   ]
  },
  {
   "cell_type": "code",
   "execution_count": 5,
   "id": "43c6aafa-09db-4c55-bda8-1a4f1dbb2a55",
   "metadata": {},
   "outputs": [],
   "source": [
    "#!aws s3 ls --no-sign-request s3://amazon-pqa/"
   ]
  },
  {
   "cell_type": "markdown",
   "id": "acac4907-d548-4f36-9dd6-551e33a693bb",
   "metadata": {},
   "source": [
    "There are a lot of files here, so for the purposes of this demo, we focus on just the headset data. Let's download the amazon_pqa_headsets.json data locally."
   ]
  },
  {
   "cell_type": "code",
   "execution_count": 6,
   "id": "5daa1064-33a2-4ece-a60b-37526a9610cc",
   "metadata": {},
   "outputs": [],
   "source": [
    "#!aws s3 cp --no-sign-request s3://amazon-pqa/amazon_pqa_headsets.json ./amazon-pqa/amazon_pqa_headsets.json"
   ]
  },
  {
   "cell_type": "markdown",
   "id": "375722f3-74f4-4a62-b642-8359fe607c64",
   "metadata": {},
   "source": [
    "### Prepare Headset PQA data"
   ]
  },
  {
   "cell_type": "code",
   "execution_count": 7,
   "id": "ff9bb597-6df7-429e-ac64-f7381f516361",
   "metadata": {},
   "outputs": [],
   "source": [
    "import json\n",
    "import pandas as pd\n",
    "\n",
    "def load_pqa(file_name,number_rows=1000):\n",
    "    qa_list = []\n",
    "    df = pd.DataFrame(columns=('question', 'answer'))\n",
    "    with open(file_name) as f:\n",
    "        i=0\n",
    "        for line in f:\n",
    "            data = json.loads(line)\n",
    "            df.loc[i] = [data['question_text'],data['answers'][0]['answer_text']]\n",
    "            i+=1\n",
    "            if(i == number_rows):\n",
    "                break\n",
    "    return df\n",
    "\n",
    "\n",
    "qa_list = load_pqa('amazon-pqa/amazon_pqa_headsets.json',number_rows=1000)"
   ]
  },
  {
   "cell_type": "code",
   "execution_count": 8,
   "id": "6170c0dc-43fa-420d-af4e-ace45b0ab1b0",
   "metadata": {},
   "outputs": [
    {
     "data": {
      "text/html": [
       "<div>\n",
       "<style scoped>\n",
       "    .dataframe tbody tr th:only-of-type {\n",
       "        vertical-align: middle;\n",
       "    }\n",
       "\n",
       "    .dataframe tbody tr th {\n",
       "        vertical-align: top;\n",
       "    }\n",
       "\n",
       "    .dataframe thead th {\n",
       "        text-align: right;\n",
       "    }\n",
       "</style>\n",
       "<table border=\"1\" class=\"dataframe\">\n",
       "  <thead>\n",
       "    <tr style=\"text-align: right;\">\n",
       "      <th></th>\n",
       "      <th>question</th>\n",
       "      <th>answer</th>\n",
       "    </tr>\n",
       "  </thead>\n",
       "  <tbody>\n",
       "    <tr>\n",
       "      <th>0</th>\n",
       "      <td>does this work with cisco ip phone 7942</td>\n",
       "      <td>Use the Plantronics compatibility guide to see...</td>\n",
       "    </tr>\n",
       "    <tr>\n",
       "      <th>1</th>\n",
       "      <td>Is this compatible with the cisco ip phone 797...</td>\n",
       "      <td>Don’t know. Call Plantronics</td>\n",
       "    </tr>\n",
       "    <tr>\n",
       "      <th>2</th>\n",
       "      <td>If i have a polycom vvx, what adapter cable wi...</td>\n",
       "      <td>Hi Gabrielle, what is the model of VVX?</td>\n",
       "    </tr>\n",
       "    <tr>\n",
       "      <th>3</th>\n",
       "      <td>Does this headset work with a samsung galaxy s...</td>\n",
       "      <td>no wont work</td>\n",
       "    </tr>\n",
       "    <tr>\n",
       "      <th>4</th>\n",
       "      <td>Will this work for a polycom vvx phone? also, ...</td>\n",
       "      <td>Yes, but you need a cable in between the heads...</td>\n",
       "    </tr>\n",
       "    <tr>\n",
       "      <th>...</th>\n",
       "      <td>...</td>\n",
       "      <td>...</td>\n",
       "    </tr>\n",
       "    <tr>\n",
       "      <th>995</th>\n",
       "      <td>Does it come with the cable for console</td>\n",
       "      <td>Yes! The Game One comes with both a PC cable a...</td>\n",
       "    </tr>\n",
       "    <tr>\n",
       "      <th>996</th>\n",
       "      <td>How do these feel while wearing glasses for an...</td>\n",
       "      <td>I don't wear glasses personally, but the perso...</td>\n",
       "    </tr>\n",
       "    <tr>\n",
       "      <th>997</th>\n",
       "      <td>How good is the microphone quality?</td>\n",
       "      <td>Its actully really good.  when i play with ny ...</td>\n",
       "    </tr>\n",
       "    <tr>\n",
       "      <th>998</th>\n",
       "      <td>is their an attachment that I can use to conne...</td>\n",
       "      <td>it didn't come with one but someone may make a...</td>\n",
       "    </tr>\n",
       "    <tr>\n",
       "      <th>999</th>\n",
       "      <td>Do these have more bass than the game zeros?</td>\n",
       "      <td>Due to the closed back design the Game ZERO wi...</td>\n",
       "    </tr>\n",
       "  </tbody>\n",
       "</table>\n",
       "<p>1000 rows × 2 columns</p>\n",
       "</div>"
      ],
      "text/plain": [
       "                                              question  \\\n",
       "0              does this work with cisco ip phone 7942   \n",
       "1    Is this compatible with the cisco ip phone 797...   \n",
       "2    If i have a polycom vvx, what adapter cable wi...   \n",
       "3    Does this headset work with a samsung galaxy s...   \n",
       "4    Will this work for a polycom vvx phone? also, ...   \n",
       "..                                                 ...   \n",
       "995            Does it come with the cable for console   \n",
       "996  How do these feel while wearing glasses for an...   \n",
       "997                How good is the microphone quality?   \n",
       "998  is their an attachment that I can use to conne...   \n",
       "999       Do these have more bass than the game zeros?   \n",
       "\n",
       "                                                answer  \n",
       "0    Use the Plantronics compatibility guide to see...  \n",
       "1                         Don’t know. Call Plantronics  \n",
       "2              Hi Gabrielle, what is the model of VVX?  \n",
       "3                                         no wont work  \n",
       "4    Yes, but you need a cable in between the heads...  \n",
       "..                                                 ...  \n",
       "995  Yes! The Game One comes with both a PC cable a...  \n",
       "996  I don't wear glasses personally, but the perso...  \n",
       "997  Its actully really good.  when i play with ny ...  \n",
       "998  it didn't come with one but someone may make a...  \n",
       "999  Due to the closed back design the Game ZERO wi...  \n",
       "\n",
       "[1000 rows x 2 columns]"
      ]
     },
     "execution_count": 8,
     "metadata": {},
     "output_type": "execute_result"
    }
   ],
   "source": [
    "qa_list"
   ]
  },
  {
   "cell_type": "code",
   "execution_count": 9,
   "id": "6044f860-10b0-4007-9cef-072a718f9318",
   "metadata": {},
   "outputs": [],
   "source": [
    "NUMBER_PRODUCTS=1000\n",
    "product_metadata = qa_list.head(NUMBER_PRODUCTS).to_dict(orient='index')\n"
   ]
  },
  {
   "cell_type": "markdown",
   "id": "6ab84d1e-afab-49ec-b429-a582aabd9e8a",
   "metadata": {},
   "source": [
    "### Create vector embeddings for questions "
   ]
  },
  {
   "cell_type": "code",
   "execution_count": 10,
   "id": "532f2f37-fa47-42b2-aec3-9b1fabb14995",
   "metadata": {},
   "outputs": [
    {
     "name": "stdout",
     "output_type": "stream",
     "text": [
      "CPU times: user 53.2 s, sys: 21.4 ms, total: 53.3 s\n",
      "Wall time: 53.5 s\n"
     ]
    }
   ],
   "source": [
    "%%time\n",
    "item_keywords =  [product_metadata[i]['question']  for i in product_metadata.keys()]\n",
    "item_keywords_vectors = [model.encode(sentence) for sentence in item_keywords]"
   ]
  },
  {
   "cell_type": "code",
   "execution_count": 11,
   "id": "1fea67f6-4657-4b00-bb16-d0d98d8a7f5b",
   "metadata": {},
   "outputs": [],
   "source": [
    "from redis.client import Redis"
   ]
  },
  {
   "cell_type": "code",
   "execution_count": 12,
   "id": "f9f85025-fbba-42b4-87f9-152198d42f62",
   "metadata": {},
   "outputs": [],
   "source": [
    "ITEM_KEYWORD_EMBEDDING_FIELD='question_vector'"
   ]
  },
  {
   "cell_type": "markdown",
   "id": "e6a44506-b96d-4273-9312-574eab225910",
   "metadata": {},
   "source": [
    "## Function to load the question, answer data with vector embeddings"
   ]
  },
  {
   "cell_type": "code",
   "execution_count": 13,
   "id": "b64c26ff-318d-4fea-b450-fd892f9cb922",
   "metadata": {},
   "outputs": [
    {
     "name": "stdout",
     "output_type": "stream",
     "text": [
      "CPU times: user 4 µs, sys: 0 ns, total: 4 µs\n",
      "Wall time: 6.91 µs\n"
     ]
    }
   ],
   "source": [
    "%%time\n",
    "def load_vectors(client: Redis, qa_list, vector_dict, vector_field_name):\n",
    "    for index in product_metadata.keys():    \n",
    "        # Hash key\n",
    "        key = 'product:' + str(index)\n",
    "        \n",
    "        # Hash values\n",
    "        item_metadata = product_metadata[index]\n",
    "        item_keywords_vector = vector_dict[index].astype(np.float32).tobytes()\n",
    "        item_metadata[vector_field_name] = item_keywords_vector\n",
    "        \n",
    "        # HSET\n",
    "        client.hset(key, mapping=item_metadata)\n"
   ]
  },
  {
   "cell_type": "markdown",
   "id": "0f39c067-19e8-424e-96f0-98d19795a15f",
   "metadata": {},
   "source": [
    "### The below function is to create the Vector index. \n",
    " However redis-py does not allow index creation because of unsupported fields in preview. so run this with MONITOR if you want a sample command for FT.CREATE"
   ]
  },
  {
   "cell_type": "code",
   "execution_count": 15,
   "id": "7c816c1f-d8a4-4ac0-9419-31a78a1ce400",
   "metadata": {},
   "outputs": [
    {
     "name": "stdout",
     "output_type": "stream",
     "text": [
      "CPU times: user 5 µs, sys: 0 ns, total: 5 µs\n",
      "Wall time: 7.63 µs\n"
     ]
    }
   ],
   "source": [
    "%%time\n",
    "def create_hnsw_index (create_hnsw_index,vector_field_name,number_of_vectors, vector_dimensions=768, distance_metric='L2',M=40,EF=200):\n",
    "    client_dev.ft(INDEX_NAME).create_index([\n",
    "        VectorField(\"question_vector\", \"HNSW\", {\"TYPE\": \"FLOAT32\", \"DIM\": vector_dimensions, \"DISTANCE_METRIC\": distance_metric, \"INITIAL_CAP\": number_of_vectors, \"M\": M, }),\n",
    "        TextField(\"question\"),        \n",
    "        TextField(\"answer\"),\n",
    "          \n",
    "    ])    \n"
   ]
  },
  {
   "cell_type": "code",
   "execution_count": 16,
   "id": "370c2194-558c-4a79-a069-94911682f425",
   "metadata": {},
   "outputs": [],
   "source": [
    "INDEX_NAME='indx:pqa_vss'\n",
    "NUMBER_PRODUCTS=1000"
   ]
  },
  {
   "cell_type": "code",
   "execution_count": 18,
   "id": "b9b8bfe9-2aca-43e0-9eed-b47ee58b1db8",
   "metadata": {},
   "outputs": [
    {
     "name": "stdout",
     "output_type": "stream",
     "text": [
      "CPU times: user 1.81 ms, sys: 35 µs, total: 1.84 ms\n",
      "Wall time: 7 ms\n"
     ]
    }
   ],
   "source": [
    "%%time\n",
    "create_hnsw_index(client_dev,INDEX_NAME,NUMBER_PRODUCTS)"
   ]
  },
  {
   "cell_type": "code",
   "execution_count": 19,
   "id": "70461cce-a6c6-45b7-9a89-e139ac37ece0",
   "metadata": {},
   "outputs": [],
   "source": [
    "## Run the below code to actually load the hashes in "
   ]
  },
  {
   "cell_type": "code",
   "execution_count": 20,
   "id": "802231d3-829c-4419-816a-5d10d943c04e",
   "metadata": {},
   "outputs": [],
   "source": [
    "INDEX_NAME='indx:pqa_vss'"
   ]
  },
  {
   "cell_type": "code",
   "execution_count": 21,
   "id": "489fdc0c-530f-4766-843c-d9ad24e7f5ae",
   "metadata": {},
   "outputs": [
    {
     "name": "stdout",
     "output_type": "stream",
     "text": [
      "Loading and Indexing + 1000 products\n",
      "CPU times: user 90.7 ms, sys: 16.2 ms, total: 107 ms\n",
      "Wall time: 6.14 s\n"
     ]
    }
   ],
   "source": [
    "%%time\n",
    "\n",
    "ITEM_KEYWORD_EMBEDDING_FIELD='question_vector'\n",
    "TEXT_EMBEDDING_DIMENSION=768\n",
    "NUMBER_PRODUCTS=1000\n",
    "\n",
    "print ('Loading and Indexing + ' +  str(NUMBER_PRODUCTS) + ' products')\n",
    "\n",
    "#flush all data\n",
    "#client_devo.flushall()\n",
    "\n",
    "load_vectors(client_dev,product_metadata,item_keywords_vectors,ITEM_KEYWORD_EMBEDDING_FIELD)\n"
   ]
  },
  {
   "cell_type": "markdown",
   "id": "e3354147-3aeb-4143-bceb-233dc87a7bb0",
   "metadata": {},
   "source": [
    "\n",
    "##  Example to create index manually using below command with redis-cli \n",
    "\n",
    "``` bash\n",
    "FT.CREATE idx:pqa_vss SCHEMA question_vector VECTOR HNSW 10 TYPE FLOAT32 DIM 768 DISTANCE_METRIC COSINE INITIAL_CAP 1000 M 40 question TEXT answer TEXT\n",
    "\n",
    "```\n",
    " "
   ]
  },
  {
   "cell_type": "code",
   "execution_count": 22,
   "id": "245714b2-9a8f-4f3a-8817-194ecb86958e",
   "metadata": {},
   "outputs": [],
   "source": [
    "#create_index_command = \"FT.CREATE idx:pqa_vss SCHEMA question_vector VECTOR HNSW 10 TYPE FLOAT32 DIM 768 DISTANCE_METRIC COSINE INITIAL_CAP 1000 M 40 question TEXT answer TEXT\"\n",
    "\n",
    "# Execute the command\n",
    "#try:\n",
    "#    response = client_devo.execute_command(create_index_command)\n",
    "#    print(\"Index created successfully:\", response)\n",
    "#except Exception as e:\n",
    "#    print(\"An error occurred while creating the index:\", e)\n"
   ]
  },
  {
   "cell_type": "markdown",
   "id": "b4c492c5-64d7-4b03-9825-1856de942d52",
   "metadata": {},
   "source": [
    "### Run FT.INFO to inspect the index "
   ]
  },
  {
   "cell_type": "code",
   "execution_count": 23,
   "id": "edf79b47-5ca7-4e9a-bed3-df61973d39ee",
   "metadata": {},
   "outputs": [
    {
     "name": "stdout",
     "output_type": "stream",
     "text": [
      "1000 documents (7357016 space used vectors indexed 1000 vector space usage in 7051484\n"
     ]
    }
   ],
   "source": [
    "info = client_dev.ft(INDEX_NAME).info()\n",
    "num_docs = info['num_docs']\n",
    "space_usage = info['space_usage']\n",
    "num_indexed_vectors = info['num_indexed_vectors']\n",
    "vector_space_usage = (info['vector_space_usage'])\n",
    "\n",
    "print(f\"{num_docs} documents ({space_usage} space used vectors indexed {num_indexed_vectors} vector space usage in {vector_space_usage}\")"
   ]
  },
  {
   "cell_type": "markdown",
   "id": "a30669b0-2052-4138-b1a8-41be64b73835",
   "metadata": {},
   "source": [
    "### Performing Semantic search.. broken down into multiple cells to capture execution time effectively can all be run from 1 cell as well "
   ]
  },
  {
   "cell_type": "code",
   "execution_count": 24,
   "id": "498169c2-441b-414e-b9b3-e29ec138e2fd",
   "metadata": {},
   "outputs": [
    {
     "name": "stdout",
     "output_type": "stream",
     "text": [
      "CPU times: user 58.2 ms, sys: 0 ns, total: 58.2 ms\n",
      "Wall time: 56.8 ms\n"
     ]
    }
   ],
   "source": [
    "%%time\n",
    "topK=5\n",
    "user_query='Does this work with xbox'\n",
    "#vectorize the query\n",
    "query_vector = model.encode(product_query).astype(np.float32).tobytes()\n"
   ]
  },
  {
   "cell_type": "code",
   "execution_count": 26,
   "id": "15a1fa6e-0dfb-455a-bd64-ced35faef17d",
   "metadata": {},
   "outputs": [
    {
     "name": "stdout",
     "output_type": "stream",
     "text": [
      "CPU times: user 1.99 ms, sys: 0 ns, total: 1.99 ms\n",
      "Wall time: 2.05 ms\n"
     ]
    }
   ],
   "source": [
    "%%time\n",
    "#prepare the query\n",
    "q = Query(f'*=>[KNN {topK} @{ITEM_KEYWORD_EMBEDDING_FIELD} $vec_param AS vector_score]').paging(0,topK).return_fields('question','answer')\n",
    "params_dict = {\"vec_param\": query_vector}\n",
    "\n",
    "#Execute the query\n",
    "results = client_dev.ft(INDEX_NAME).search(q, query_params = params_dict)\n"
   ]
  },
  {
   "cell_type": "code",
   "execution_count": 27,
   "id": "c0a664f4-f816-4d40-b006-1fcc860d6551",
   "metadata": {},
   "outputs": [
    {
     "name": "stdout",
     "output_type": "stream",
     "text": [
      "***************Product  found ************\n",
      "hash key = product:197\n",
      "question = Does this work with xbox one?\n",
      "answer = sorry, Im not an xbox user.\n",
      "***************Product  found ************\n",
      "hash key = product:721\n",
      "question = Does this work with the xbox one?\n",
      "answer = Yeah of course , but you must have an adapter to use this beautiful headset\n",
      "***************Product  found ************\n",
      "hash key = product:579\n",
      "question = does this work on xbox one?\n",
      "answer = I'm sorry, but not!\n",
      "***************Product  found ************\n",
      "hash key = product:873\n",
      "question = Does this work with ps4\n",
      "answer = Yes it does\n",
      "***************Product  found ************\n",
      "hash key = product:538\n",
      "question = will this work with xbox one\n",
      "answer = Diane, you would also need to purchase an Xbox One Headset Adapter made by Microsoft to use this with an Xbox One. With the adapter it willwork perfectly with the Xbox One.\n",
      "CPU times: user 118 µs, sys: 2 µs, total: 120 µs\n",
      "Wall time: 112 µs\n"
     ]
    }
   ],
   "source": [
    "%%time\n",
    "#Print similar products and questions found\n",
    "for product in results.docs:\n",
    "    print ('***************Product  found ************')\n",
    "    print ('hash key = '  + product.id)\n",
    "    print ( 'question = '  + product.question)\n",
    "    print ('answer = ' + product.answer)"
   ]
  },
  {
   "cell_type": "code",
   "execution_count": null,
   "id": "1ea170a5-07e0-4e55-bbf3-8efcede686c6",
   "metadata": {},
   "outputs": [],
   "source": []
  }
 ],
 "metadata": {
  "kernelspec": {
   "display_name": "Python 3 (ipykernel)",
   "language": "python",
   "name": "python3"
  },
  "language_info": {
   "codemirror_mode": {
    "name": "ipython",
    "version": 3
   },
   "file_extension": ".py",
   "mimetype": "text/x-python",
   "name": "python",
   "nbconvert_exporter": "python",
   "pygments_lexer": "ipython3",
   "version": "3.10.12"
  }
 },
 "nbformat": 4,
 "nbformat_minor": 5
}
