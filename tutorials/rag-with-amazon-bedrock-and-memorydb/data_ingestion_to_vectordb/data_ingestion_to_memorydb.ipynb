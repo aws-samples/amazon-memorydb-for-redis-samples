{
 "cells": [
  {
   "cell_type": "markdown",
   "id": "cc4ed4d8-6dd1-4422-9f17-99259212fbf1",
   "metadata": {},
   "source": [
    "# Ingest data to a Vector DB (Amazon MemoryDB for Redis)\n",
    "**_Use of Amazon MemoryDB for Redis as a vector database to store embeddings_**\n",
    "\n",
    "This notebook works well with the `Data Science 2.0` kernel on a SageMaker Studio `ml.t3.medium` instance.\n",
    "\n",
    "Here is a list of packages that are used in this notebook.\n",
    "```\n",
    "!pip freeze | grep -E -w \"langchain|pypdf|redis\"\n",
    "----------------------------------------------------------------------------------------\n",
    "langchain==0.1.16\n",
    "langchain-aws==0.1.0\n",
    "langchain-community==0.0.34\n",
    "langchain-core==0.1.45\n",
    "langchain-text-splitters==0.0.1\n",
    "pypdf==4.2.0\n",
    "redis==5.0.1\n",
    "```"
   ]
  },
  {
   "cell_type": "markdown",
   "id": "066f83f2-7eeb-486d-88a9-6d6e0ffa50ed",
   "metadata": {},
   "source": [
    "## Step 1: Set up\n",
    "Install the required packages"
   ]
  },
  {
   "cell_type": "markdown",
   "id": "f36470b1-cba5-4d43-aea7-4b99e15a1b89",
   "metadata": {},
   "source": [
    "### Install LangChain MemoryDB"
   ]
  },
  {
   "cell_type": "code",
   "execution_count": null,
   "id": "620fc216-d1ab-4602-95e2-2190df6d72fd",
   "metadata": {
    "collapsed": true,
    "jupyter": {
     "outputs_hidden": true
    },
    "tags": []
   },
   "outputs": [],
   "source": [
    "%%sh\n",
    "\n",
    "git clone --depth=1 https://github.com/aws-samples/amazon-memorydb-for-redis-samples.git\n",
    "cd amazon-memorydb-for-redis-samples/tutorials/langchain-memorydb\n",
    "pip install ."
   ]
  },
  {
   "cell_type": "code",
   "execution_count": null,
   "id": "d0a7c1b2",
   "metadata": {},
   "outputs": [],
   "source": [
    "!pip install -U langchain==0.1.16 langchain-aws==0.1.0 langchain-community==0.0.34\n",
    "!pip install -U pypdf==4.2.0 redis==5.0.1"
   ]
  },
  {
   "cell_type": "code",
   "execution_count": null,
   "id": "51671f14-f746-474c-af39-76238b570152",
   "metadata": {
    "tags": []
   },
   "outputs": [
    {
     "name": "stdout",
     "output_type": "stream",
     "text": [
      "langchain                            0.1.16\n",
      "langchain-aws                        0.1.0\n",
      "langchain-community                  0.0.34\n",
      "langchain-core                       0.1.45\n",
      "langchain-text-splitters             0.0.1\n",
      "pypdf                                4.0.1\n",
      "redis                                5.0.1\n",
      "\n",
      "\u001b[1m[\u001b[0m\u001b[34;49mnotice\u001b[0m\u001b[1;39;49m]\u001b[0m\u001b[39;49m A new release of pip is available: \u001b[0m\u001b[31;49m23.3.1\u001b[0m\u001b[39;49m -> \u001b[0m\u001b[32;49m23.3.2\u001b[0m\n",
      "\u001b[1m[\u001b[0m\u001b[34;49mnotice\u001b[0m\u001b[1;39;49m]\u001b[0m\u001b[39;49m To update, run: \u001b[0m\u001b[32;49mpip install --upgrade pip\u001b[0m\n"
     ]
    }
   ],
   "source": [
    "!pip list | grep -E -w \"langchain|pypdf|redis\""
   ]
  },
  {
   "cell_type": "markdown",
   "id": "8da3c829-43a9-45ee-8d44-d50ddbd5a93b",
   "metadata": {},
   "source": [
    "## Step 2: Download the data from the web\n",
    "\n",
    "In this step we use `wget` to download the pdf version of Amazon MemoryDB for Redis developer guide.\n",
    "\n",
    "**This data download would take a few minutes**."
   ]
  },
  {
   "cell_type": "code",
   "execution_count": null,
   "id": "a58a6013-7b8b-409f-91c2-9dbcb98abeee",
   "metadata": {
    "collapsed": true,
    "jupyter": {
     "outputs_hidden": true
    },
    "tags": []
   },
   "outputs": [],
   "source": [
    "%%sh\n",
    "mkdir -p data\n",
    "wget -O data/memorydb-guide.pdf https://docs.aws.amazon.com/memorydb/latest/devguide/memorydb-guide.pdf.pdf"
   ]
  },
  {
   "cell_type": "markdown",
   "id": "2eb04316-214e-4b9c-9cf1-f364ad5474f6",
   "metadata": {
    "tags": []
   },
   "source": [
    "## Step 3: Load data into Amazon MemoryDB for Redis"
   ]
  },
  {
   "cell_type": "code",
   "execution_count": null,
   "id": "4ef0be97-8832-4920-b62e-888f72f46d09",
   "metadata": {
    "tags": []
   },
   "outputs": [],
   "source": [
    "import boto3\n",
    "\n",
    "aws_region = boto3.Session().region_name"
   ]
  },
  {
   "cell_type": "code",
   "execution_count": null,
   "id": "1059eaf1-dcff-4507-ae5a-c6f9451c3c26",
   "metadata": {
    "tags": []
   },
   "outputs": [],
   "source": [
    "import json\n",
    "from typing import List\n",
    "\n",
    "def get_cfn_outputs(stackname: str, region_name: str) -> List:\n",
    "    cfn = boto3.client('cloudformation', region_name=region_name)\n",
    "    outputs = {}\n",
    "    for output in cfn.describe_stacks(StackName=stackname)['Stacks'][0]['Outputs']:\n",
    "        outputs[output['OutputKey']] = output['OutputValue']\n",
    "    return outputs\n",
    "\n",
    "\n",
    "def get_credentials(secret_id: str, region_name: str) -> str:\n",
    "    client = boto3.client('secretsmanager', region_name=region_name)\n",
    "    response = client.get_secret_value(SecretId=secret_id)\n",
    "    secrets_value = json.loads(response['SecretString'])\n",
    "    return secrets_value"
   ]
  },
  {
   "cell_type": "code",
   "execution_count": null,
   "id": "4981fbb4-c405-47e0-ae7a-37e86c33d855",
   "metadata": {
    "tags": []
   },
   "outputs": [],
   "source": [
    "CFN_STACK_NAME = 'RAGMemoryDBAclStack'\n",
    "\n",
    "cfn_stack_outputs = get_cfn_outputs(CFN_STACK_NAME, aws_region)\n",
    "memorydb_secret_name = cfn_stack_outputs['MemoryDBSecretName']"
   ]
  },
  {
   "cell_type": "code",
   "execution_count": null,
   "id": "95039f3f-e454-4a1f-bfcf-ab021f94b195",
   "metadata": {
    "tags": []
   },
   "outputs": [],
   "source": [
    "CFN_STACK_NAME = 'RAGMemoryDBStack'\n",
    "\n",
    "cfn_stack_outputs = get_cfn_outputs(CFN_STACK_NAME, aws_region)\n",
    "memorydb_host = cfn_stack_outputs['MemoryDBClusterEndpoint']"
   ]
  },
  {
   "cell_type": "code",
   "execution_count": null,
   "id": "dabcc415-e621-4574-8be1-47f4e38f9e59",
   "metadata": {
    "tags": []
   },
   "outputs": [],
   "source": [
    "creds = get_credentials(memorydb_secret_name, aws_region)\n",
    "USER, PASSWORD = creds['username'], creds['password']"
   ]
  },
  {
   "cell_type": "code",
   "execution_count": null,
   "id": "b8b297c1-0776-45d8-b49d-952bbfca8568",
   "metadata": {
    "tags": []
   },
   "outputs": [],
   "source": [
    "REDIS_URL = f\"rediss://{USER}:{PASSWORD}@{memorydb_host}:6379/ssl=True&ssl_cert_reqs=none\"\n",
    "INDEX_NAME = 'idx:vss-mm'\n",
    "\n",
    "REDIS_URL, INDEX_NAME"
   ]
  },
  {
   "cell_type": "code",
   "execution_count": null,
   "id": "fdd0d744-07dc-42d0-954e-cd8de7b4e74b",
   "metadata": {
    "tags": []
   },
   "outputs": [],
   "source": [
    "from langchain_community.document_loaders.pdf import PyPDFLoader\n",
    "from langchain_text_splitters.character import RecursiveCharacterTextSplitter"
   ]
  },
  {
   "cell_type": "code",
   "execution_count": null,
   "id": "d39db9b7-5d5c-4cfe-b2f1-5a7ce3bc5f55",
   "metadata": {
    "tags": []
   },
   "outputs": [],
   "source": [
    "pdf_path = './data/memorydb-guide.pdf'\n",
    "\n",
    "loader = PyPDFLoader(file_path=pdf_path)\n",
    "\n",
    "text_splitter = RecursiveCharacterTextSplitter(\n",
    "    separators=[\"\\n\\n\", \"\\n\", \".\", \" \"],\n",
    "    chunk_size=1000,\n",
    "    chunk_overlap=100\n",
    ")"
   ]
  },
  {
   "cell_type": "code",
   "execution_count": null,
   "id": "fc20b40a-e368-4135-94bf-02667d75d30e",
   "metadata": {
    "tags": []
   },
   "outputs": [],
   "source": [
    "%%time\n",
    "chunks = loader.load_and_split(text_splitter)"
   ]
  },
  {
   "cell_type": "code",
   "execution_count": null,
   "id": "ce15007c-1032-4495-a3bb-cf105822e212",
   "metadata": {
    "tags": []
   },
   "outputs": [],
   "source": [
    "from langchain_community.embeddings import BedrockEmbeddings\n",
    "\n",
    "embeddings = BedrockEmbeddings(\n",
    "    region_name=aws_region\n",
    ")"
   ]
  },
  {
   "cell_type": "code",
   "execution_count": null,
   "id": "7af3bd5b-deb2-48b4-9a66-3a523553a0b9",
   "metadata": {
    "tags": []
   },
   "outputs": [],
   "source": [
    "%%time\n",
    "from langchain_memorydb import MemoryDB\n",
    "\n",
    "vectorstore = MemoryDB.from_documents(\n",
    "    chunks,\n",
    "    embedding=embeddings,\n",
    "    redis_url=REDIS_URL,\n",
    "    index_name=INDEX_NAME\n",
    ")"
   ]
  },
  {
   "cell_type": "markdown",
   "id": "e5ad8c95-e053-49c0-8844-389fafcee284",
   "metadata": {},
   "source": [
    "#### Check Index\n",
    "\n",
    "Now we will have a look at the index of the documents using Redis command."
   ]
  },
  {
   "cell_type": "code",
   "execution_count": null,
   "id": "5aaf2bc8-68ae-4960-8204-ada204b0d2b7",
   "metadata": {
    "tags": []
   },
   "outputs": [
    {
     "data": {
      "text/plain": [
       "['idx:vss-mm']"
      ]
     },
     "execution_count": 30,
     "metadata": {},
     "output_type": "execute_result"
    }
   ],
   "source": [
    "import redis\n",
    "\n",
    "redis_client = redis.Redis(host=memorydb_host, port=6379,\n",
    "                           username=USER, password=PASSWORD,\n",
    "                           decode_responses=True, ssl=True, ssl_cert_reqs=\"none\")\n",
    "\n",
    "redis_client.execute_command('ft._list')"
   ]
  },
  {
   "cell_type": "code",
   "execution_count": null,
   "id": "c622f7b2-17de-45ec-9577-e417b782d690",
   "metadata": {
    "tags": []
   },
   "outputs": [],
   "source": [
    "redis_client.ft(INDEX_NAME).info()"
   ]
  },
  {
   "cell_type": "markdown",
   "id": "08266e3e-f547-40ed-8050-c4a33fd8bd5f",
   "metadata": {},
   "source": [
    "## Step 4: Do a similarity search for for user input to documents (embeddings) in Amazon MemoryDB for Redis"
   ]
  },
  {
   "cell_type": "code",
   "execution_count": null,
   "id": "4dd95967-938c-4e19-895d-140bf0dbb63b",
   "metadata": {
    "tags": []
   },
   "outputs": [
    {
     "name": "stdout",
     "output_type": "stream",
     "text": [
      "CPU times: user 5 µs, sys: 0 ns, total: 5 µs\n",
      "Wall time: 9.06 µs\n"
     ]
    },
    {
     "data": {
      "text/plain": [
       "[Document(page_content='recomputing them, FM buﬀer memory reduces the amount of computation required during \\ninference through the FMs. This FM buﬀer memory allows large language models to respond faster \\nwith lower costs due to service charges from the FM.\\nRetrieval Augmented Generation (RAG) 295', metadata={'id': 'doc:idx:vss-mm:4b468d1b5d4f4c3592301c2082555bf3', 'source': './data/memorydb-guide.pdf', 'page': '302'}),\n",
       " Document(page_content='managed experience enabling developers to execute LUA scripts with application logic stored on \\nthe MemoryDB cluster, without requiring clients to re-send the scripts to the server with every \\nconnection.\\nEngine versions 92', metadata={'id': 'doc:idx:vss-mm:835df288eae94702b19de8db615dc2f9', 'source': './data/memorydb-guide.pdf', 'page': '99'}),\n",
       " Document(page_content='Amazon MemoryDB for Redis Developer Guide\\nFollowing are use cases of vector search.\\nRetrieval Augmented Generation (RAG)\\nRetrieval Augmented Generation (RAG) leverages vector search to retrieve relevant passages from a \\nlarge corpus of data to augment a large language model (LLM). Speciﬁcally, an encoder embeds the \\ninput context and search query into vectors, then uses approximate nearest neighbor search to ﬁnd \\nsemantically similar passages. These retrieved passages are concatenated with the original context \\nto provide additional relevant information to the LLM to return a more accurate response to the \\nuser.\\nFoundation Model (FM) Buﬀer Memory\\nFoundation model (FM) buﬀer memory is a process to reduce computational costs by storing \\nprevious results from the FM. By reusing previous results from prior inferences instead of \\nrecomputing them, FM buﬀer memory reduces the amount of computation required during', metadata={'id': 'doc:idx:vss-mm:c6bb085a054349ed8e9b6f64ab4ec73d', 'source': './data/memorydb-guide.pdf', 'page': '302'}),\n",
       " Document(page_content='Amazon MemoryDB for Redis Developer Guide\\n•Semantic search hit  – If a customer’s query is semantically similar based on a deﬁned similarity \\nscore to a prior question, the FM buﬀer memory (MemoryDB) will return the answer to the prior \\nquestion in step 4 and will not call the FM through steps 3. This will avoid the foundation model \\n(FM) latency and costs incurred, providing for a faster experience for the customer.\\n•Semantic search miss  – If a customer’s query is not semantically similar based on a deﬁned \\nsimilarity score to a prior query, a customer will call the FM to deliver a response to customer in \\nstep 3a. The response generated from the FM will then be stored as a vector into MemoryDB for \\nfuture queries (step 3b) to minimize FM costs on semantically similar questions. In this ﬂow, step \\n4 would not be invoked as there was no semantically similar question for the original query.\\nFraud detection', metadata={'id': 'doc:idx:vss-mm:5def03b82ad4463faba4904dd3634d49', 'source': './data/memorydb-guide.pdf', 'page': '303'})]"
      ]
     },
     "execution_count": 33,
     "metadata": {},
     "output_type": "execute_result"
    }
   ],
   "source": [
    "query = \"What is the company's strategy for generative AI?\"\n",
    "\n",
    "%time\n",
    "results = vectorstore.similarity_search(query)\n",
    "results"
   ]
  },
  {
   "cell_type": "markdown",
   "id": "e1f7ed2a",
   "metadata": {},
   "source": [
    "## Clean up\n",
    "\n",
    "To avoid incurring future charges, delete the resources. You can do this by deleting the CloudFormation template used to create the IAM role and SageMaker notebook."
   ]
  },
  {
   "cell_type": "markdown",
   "id": "27ce355c",
   "metadata": {},
   "source": [
    "## Conclusion\n",
    "\n",
    "In this notebook we were able to see how to use Amazon Bedrock to generate embeddings and then ingest those embeddings into Amazon MemoryDB for Redis and finally do a similarity search for user input to the documents (embeddings) stored in Amazon MemoryDB for Redis. We used langchain as an abstraction layer to talk to both Amazon Bedrock as well as Amazon MemoryDB for Redis."
   ]
  }
 ],
 "metadata": {
  "availableInstances": [
   {
    "_defaultOrder": 0,
    "_isFastLaunch": true,
    "category": "General purpose",
    "gpuNum": 0,
    "hideHardwareSpecs": false,
    "memoryGiB": 4,
    "name": "ml.t3.medium",
    "vcpuNum": 2
   },
   {
    "_defaultOrder": 1,
    "_isFastLaunch": false,
    "category": "General purpose",
    "gpuNum": 0,
    "hideHardwareSpecs": false,
    "memoryGiB": 8,
    "name": "ml.t3.large",
    "vcpuNum": 2
   },
   {
    "_defaultOrder": 2,
    "_isFastLaunch": false,
    "category": "General purpose",
    "gpuNum": 0,
    "hideHardwareSpecs": false,
    "memoryGiB": 16,
    "name": "ml.t3.xlarge",
    "vcpuNum": 4
   },
   {
    "_defaultOrder": 3,
    "_isFastLaunch": false,
    "category": "General purpose",
    "gpuNum": 0,
    "hideHardwareSpecs": false,
    "memoryGiB": 32,
    "name": "ml.t3.2xlarge",
    "vcpuNum": 8
   },
   {
    "_defaultOrder": 4,
    "_isFastLaunch": true,
    "category": "General purpose",
    "gpuNum": 0,
    "hideHardwareSpecs": false,
    "memoryGiB": 8,
    "name": "ml.m5.large",
    "vcpuNum": 2
   },
   {
    "_defaultOrder": 5,
    "_isFastLaunch": false,
    "category": "General purpose",
    "gpuNum": 0,
    "hideHardwareSpecs": false,
    "memoryGiB": 16,
    "name": "ml.m5.xlarge",
    "vcpuNum": 4
   },
   {
    "_defaultOrder": 6,
    "_isFastLaunch": false,
    "category": "General purpose",
    "gpuNum": 0,
    "hideHardwareSpecs": false,
    "memoryGiB": 32,
    "name": "ml.m5.2xlarge",
    "vcpuNum": 8
   },
   {
    "_defaultOrder": 7,
    "_isFastLaunch": false,
    "category": "General purpose",
    "gpuNum": 0,
    "hideHardwareSpecs": false,
    "memoryGiB": 64,
    "name": "ml.m5.4xlarge",
    "vcpuNum": 16
   },
   {
    "_defaultOrder": 8,
    "_isFastLaunch": false,
    "category": "General purpose",
    "gpuNum": 0,
    "hideHardwareSpecs": false,
    "memoryGiB": 128,
    "name": "ml.m5.8xlarge",
    "vcpuNum": 32
   },
   {
    "_defaultOrder": 9,
    "_isFastLaunch": false,
    "category": "General purpose",
    "gpuNum": 0,
    "hideHardwareSpecs": false,
    "memoryGiB": 192,
    "name": "ml.m5.12xlarge",
    "vcpuNum": 48
   },
   {
    "_defaultOrder": 10,
    "_isFastLaunch": false,
    "category": "General purpose",
    "gpuNum": 0,
    "hideHardwareSpecs": false,
    "memoryGiB": 256,
    "name": "ml.m5.16xlarge",
    "vcpuNum": 64
   },
   {
    "_defaultOrder": 11,
    "_isFastLaunch": false,
    "category": "General purpose",
    "gpuNum": 0,
    "hideHardwareSpecs": false,
    "memoryGiB": 384,
    "name": "ml.m5.24xlarge",
    "vcpuNum": 96
   },
   {
    "_defaultOrder": 12,
    "_isFastLaunch": false,
    "category": "General purpose",
    "gpuNum": 0,
    "hideHardwareSpecs": false,
    "memoryGiB": 8,
    "name": "ml.m5d.large",
    "vcpuNum": 2
   },
   {
    "_defaultOrder": 13,
    "_isFastLaunch": false,
    "category": "General purpose",
    "gpuNum": 0,
    "hideHardwareSpecs": false,
    "memoryGiB": 16,
    "name": "ml.m5d.xlarge",
    "vcpuNum": 4
   },
   {
    "_defaultOrder": 14,
    "_isFastLaunch": false,
    "category": "General purpose",
    "gpuNum": 0,
    "hideHardwareSpecs": false,
    "memoryGiB": 32,
    "name": "ml.m5d.2xlarge",
    "vcpuNum": 8
   },
   {
    "_defaultOrder": 15,
    "_isFastLaunch": false,
    "category": "General purpose",
    "gpuNum": 0,
    "hideHardwareSpecs": false,
    "memoryGiB": 64,
    "name": "ml.m5d.4xlarge",
    "vcpuNum": 16
   },
   {
    "_defaultOrder": 16,
    "_isFastLaunch": false,
    "category": "General purpose",
    "gpuNum": 0,
    "hideHardwareSpecs": false,
    "memoryGiB": 128,
    "name": "ml.m5d.8xlarge",
    "vcpuNum": 32
   },
   {
    "_defaultOrder": 17,
    "_isFastLaunch": false,
    "category": "General purpose",
    "gpuNum": 0,
    "hideHardwareSpecs": false,
    "memoryGiB": 192,
    "name": "ml.m5d.12xlarge",
    "vcpuNum": 48
   },
   {
    "_defaultOrder": 18,
    "_isFastLaunch": false,
    "category": "General purpose",
    "gpuNum": 0,
    "hideHardwareSpecs": false,
    "memoryGiB": 256,
    "name": "ml.m5d.16xlarge",
    "vcpuNum": 64
   },
   {
    "_defaultOrder": 19,
    "_isFastLaunch": false,
    "category": "General purpose",
    "gpuNum": 0,
    "hideHardwareSpecs": false,
    "memoryGiB": 384,
    "name": "ml.m5d.24xlarge",
    "vcpuNum": 96
   },
   {
    "_defaultOrder": 20,
    "_isFastLaunch": false,
    "category": "General purpose",
    "gpuNum": 0,
    "hideHardwareSpecs": true,
    "memoryGiB": 0,
    "name": "ml.geospatial.interactive",
    "supportedImageNames": [
     "sagemaker-geospatial-v1-0"
    ],
    "vcpuNum": 0
   },
   {
    "_defaultOrder": 21,
    "_isFastLaunch": true,
    "category": "Compute optimized",
    "gpuNum": 0,
    "hideHardwareSpecs": false,
    "memoryGiB": 4,
    "name": "ml.c5.large",
    "vcpuNum": 2
   },
   {
    "_defaultOrder": 22,
    "_isFastLaunch": false,
    "category": "Compute optimized",
    "gpuNum": 0,
    "hideHardwareSpecs": false,
    "memoryGiB": 8,
    "name": "ml.c5.xlarge",
    "vcpuNum": 4
   },
   {
    "_defaultOrder": 23,
    "_isFastLaunch": false,
    "category": "Compute optimized",
    "gpuNum": 0,
    "hideHardwareSpecs": false,
    "memoryGiB": 16,
    "name": "ml.c5.2xlarge",
    "vcpuNum": 8
   },
   {
    "_defaultOrder": 24,
    "_isFastLaunch": false,
    "category": "Compute optimized",
    "gpuNum": 0,
    "hideHardwareSpecs": false,
    "memoryGiB": 32,
    "name": "ml.c5.4xlarge",
    "vcpuNum": 16
   },
   {
    "_defaultOrder": 25,
    "_isFastLaunch": false,
    "category": "Compute optimized",
    "gpuNum": 0,
    "hideHardwareSpecs": false,
    "memoryGiB": 72,
    "name": "ml.c5.9xlarge",
    "vcpuNum": 36
   },
   {
    "_defaultOrder": 26,
    "_isFastLaunch": false,
    "category": "Compute optimized",
    "gpuNum": 0,
    "hideHardwareSpecs": false,
    "memoryGiB": 96,
    "name": "ml.c5.12xlarge",
    "vcpuNum": 48
   },
   {
    "_defaultOrder": 27,
    "_isFastLaunch": false,
    "category": "Compute optimized",
    "gpuNum": 0,
    "hideHardwareSpecs": false,
    "memoryGiB": 144,
    "name": "ml.c5.18xlarge",
    "vcpuNum": 72
   },
   {
    "_defaultOrder": 28,
    "_isFastLaunch": false,
    "category": "Compute optimized",
    "gpuNum": 0,
    "hideHardwareSpecs": false,
    "memoryGiB": 192,
    "name": "ml.c5.24xlarge",
    "vcpuNum": 96
   },
   {
    "_defaultOrder": 29,
    "_isFastLaunch": true,
    "category": "Accelerated computing",
    "gpuNum": 1,
    "hideHardwareSpecs": false,
    "memoryGiB": 16,
    "name": "ml.g4dn.xlarge",
    "vcpuNum": 4
   },
   {
    "_defaultOrder": 30,
    "_isFastLaunch": false,
    "category": "Accelerated computing",
    "gpuNum": 1,
    "hideHardwareSpecs": false,
    "memoryGiB": 32,
    "name": "ml.g4dn.2xlarge",
    "vcpuNum": 8
   },
   {
    "_defaultOrder": 31,
    "_isFastLaunch": false,
    "category": "Accelerated computing",
    "gpuNum": 1,
    "hideHardwareSpecs": false,
    "memoryGiB": 64,
    "name": "ml.g4dn.4xlarge",
    "vcpuNum": 16
   },
   {
    "_defaultOrder": 32,
    "_isFastLaunch": false,
    "category": "Accelerated computing",
    "gpuNum": 1,
    "hideHardwareSpecs": false,
    "memoryGiB": 128,
    "name": "ml.g4dn.8xlarge",
    "vcpuNum": 32
   },
   {
    "_defaultOrder": 33,
    "_isFastLaunch": false,
    "category": "Accelerated computing",
    "gpuNum": 4,
    "hideHardwareSpecs": false,
    "memoryGiB": 192,
    "name": "ml.g4dn.12xlarge",
    "vcpuNum": 48
   },
   {
    "_defaultOrder": 34,
    "_isFastLaunch": false,
    "category": "Accelerated computing",
    "gpuNum": 1,
    "hideHardwareSpecs": false,
    "memoryGiB": 256,
    "name": "ml.g4dn.16xlarge",
    "vcpuNum": 64
   },
   {
    "_defaultOrder": 35,
    "_isFastLaunch": false,
    "category": "Accelerated computing",
    "gpuNum": 1,
    "hideHardwareSpecs": false,
    "memoryGiB": 61,
    "name": "ml.p3.2xlarge",
    "vcpuNum": 8
   },
   {
    "_defaultOrder": 36,
    "_isFastLaunch": false,
    "category": "Accelerated computing",
    "gpuNum": 4,
    "hideHardwareSpecs": false,
    "memoryGiB": 244,
    "name": "ml.p3.8xlarge",
    "vcpuNum": 32
   },
   {
    "_defaultOrder": 37,
    "_isFastLaunch": false,
    "category": "Accelerated computing",
    "gpuNum": 8,
    "hideHardwareSpecs": false,
    "memoryGiB": 488,
    "name": "ml.p3.16xlarge",
    "vcpuNum": 64
   },
   {
    "_defaultOrder": 38,
    "_isFastLaunch": false,
    "category": "Accelerated computing",
    "gpuNum": 8,
    "hideHardwareSpecs": false,
    "memoryGiB": 768,
    "name": "ml.p3dn.24xlarge",
    "vcpuNum": 96
   },
   {
    "_defaultOrder": 39,
    "_isFastLaunch": false,
    "category": "Memory Optimized",
    "gpuNum": 0,
    "hideHardwareSpecs": false,
    "memoryGiB": 16,
    "name": "ml.r5.large",
    "vcpuNum": 2
   },
   {
    "_defaultOrder": 40,
    "_isFastLaunch": false,
    "category": "Memory Optimized",
    "gpuNum": 0,
    "hideHardwareSpecs": false,
    "memoryGiB": 32,
    "name": "ml.r5.xlarge",
    "vcpuNum": 4
   },
   {
    "_defaultOrder": 41,
    "_isFastLaunch": false,
    "category": "Memory Optimized",
    "gpuNum": 0,
    "hideHardwareSpecs": false,
    "memoryGiB": 64,
    "name": "ml.r5.2xlarge",
    "vcpuNum": 8
   },
   {
    "_defaultOrder": 42,
    "_isFastLaunch": false,
    "category": "Memory Optimized",
    "gpuNum": 0,
    "hideHardwareSpecs": false,
    "memoryGiB": 128,
    "name": "ml.r5.4xlarge",
    "vcpuNum": 16
   },
   {
    "_defaultOrder": 43,
    "_isFastLaunch": false,
    "category": "Memory Optimized",
    "gpuNum": 0,
    "hideHardwareSpecs": false,
    "memoryGiB": 256,
    "name": "ml.r5.8xlarge",
    "vcpuNum": 32
   },
   {
    "_defaultOrder": 44,
    "_isFastLaunch": false,
    "category": "Memory Optimized",
    "gpuNum": 0,
    "hideHardwareSpecs": false,
    "memoryGiB": 384,
    "name": "ml.r5.12xlarge",
    "vcpuNum": 48
   },
   {
    "_defaultOrder": 45,
    "_isFastLaunch": false,
    "category": "Memory Optimized",
    "gpuNum": 0,
    "hideHardwareSpecs": false,
    "memoryGiB": 512,
    "name": "ml.r5.16xlarge",
    "vcpuNum": 64
   },
   {
    "_defaultOrder": 46,
    "_isFastLaunch": false,
    "category": "Memory Optimized",
    "gpuNum": 0,
    "hideHardwareSpecs": false,
    "memoryGiB": 768,
    "name": "ml.r5.24xlarge",
    "vcpuNum": 96
   },
   {
    "_defaultOrder": 47,
    "_isFastLaunch": false,
    "category": "Accelerated computing",
    "gpuNum": 1,
    "hideHardwareSpecs": false,
    "memoryGiB": 16,
    "name": "ml.g5.xlarge",
    "vcpuNum": 4
   },
   {
    "_defaultOrder": 48,
    "_isFastLaunch": false,
    "category": "Accelerated computing",
    "gpuNum": 1,
    "hideHardwareSpecs": false,
    "memoryGiB": 32,
    "name": "ml.g5.2xlarge",
    "vcpuNum": 8
   },
   {
    "_defaultOrder": 49,
    "_isFastLaunch": false,
    "category": "Accelerated computing",
    "gpuNum": 1,
    "hideHardwareSpecs": false,
    "memoryGiB": 64,
    "name": "ml.g5.4xlarge",
    "vcpuNum": 16
   },
   {
    "_defaultOrder": 50,
    "_isFastLaunch": false,
    "category": "Accelerated computing",
    "gpuNum": 1,
    "hideHardwareSpecs": false,
    "memoryGiB": 128,
    "name": "ml.g5.8xlarge",
    "vcpuNum": 32
   },
   {
    "_defaultOrder": 51,
    "_isFastLaunch": false,
    "category": "Accelerated computing",
    "gpuNum": 1,
    "hideHardwareSpecs": false,
    "memoryGiB": 256,
    "name": "ml.g5.16xlarge",
    "vcpuNum": 64
   },
   {
    "_defaultOrder": 52,
    "_isFastLaunch": false,
    "category": "Accelerated computing",
    "gpuNum": 4,
    "hideHardwareSpecs": false,
    "memoryGiB": 192,
    "name": "ml.g5.12xlarge",
    "vcpuNum": 48
   },
   {
    "_defaultOrder": 53,
    "_isFastLaunch": false,
    "category": "Accelerated computing",
    "gpuNum": 4,
    "hideHardwareSpecs": false,
    "memoryGiB": 384,
    "name": "ml.g5.24xlarge",
    "vcpuNum": 96
   },
   {
    "_defaultOrder": 54,
    "_isFastLaunch": false,
    "category": "Accelerated computing",
    "gpuNum": 8,
    "hideHardwareSpecs": false,
    "memoryGiB": 768,
    "name": "ml.g5.48xlarge",
    "vcpuNum": 192
   },
   {
    "_defaultOrder": 55,
    "_isFastLaunch": false,
    "category": "Accelerated computing",
    "gpuNum": 8,
    "hideHardwareSpecs": false,
    "memoryGiB": 1152,
    "name": "ml.p4d.24xlarge",
    "vcpuNum": 96
   },
   {
    "_defaultOrder": 56,
    "_isFastLaunch": false,
    "category": "Accelerated computing",
    "gpuNum": 8,
    "hideHardwareSpecs": false,
    "memoryGiB": 1152,
    "name": "ml.p4de.24xlarge",
    "vcpuNum": 96
   },
   {
    "_defaultOrder": 57,
    "_isFastLaunch": false,
    "category": "Accelerated computing",
    "gpuNum": 0,
    "hideHardwareSpecs": false,
    "memoryGiB": 32,
    "name": "ml.trn1.2xlarge",
    "vcpuNum": 8
   },
   {
    "_defaultOrder": 58,
    "_isFastLaunch": false,
    "category": "Accelerated computing",
    "gpuNum": 0,
    "hideHardwareSpecs": false,
    "memoryGiB": 512,
    "name": "ml.trn1.32xlarge",
    "vcpuNum": 128
   },
   {
    "_defaultOrder": 59,
    "_isFastLaunch": false,
    "category": "Accelerated computing",
    "gpuNum": 0,
    "hideHardwareSpecs": false,
    "memoryGiB": 512,
    "name": "ml.trn1n.32xlarge",
    "vcpuNum": 128
   }
  ],
  "instance_type": "ml.t3.medium",
  "kernelspec": {
   "display_name": "Python 3 (Data Science 3.0)",
   "language": "python",
   "name": "python3__SAGEMAKER_INTERNAL__arn:aws:sagemaker:us-east-1:123456789012:image/sagemaker-data-science-310-v1"
  },
  "language_info": {
   "codemirror_mode": {
    "name": "ipython",
    "version": 3
   },
   "file_extension": ".py",
   "mimetype": "text/x-python",
   "name": "python",
   "nbconvert_exporter": "python",
   "pygments_lexer": "ipython3",
   "version": "3.10.6"
  }
 },
 "nbformat": 4,
 "nbformat_minor": 5
}
