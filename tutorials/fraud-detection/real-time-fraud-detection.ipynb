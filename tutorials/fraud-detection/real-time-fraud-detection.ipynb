{
 "cells": [
  {
   "cell_type": "markdown",
   "id": "268b101f-51e9-4fea-bd36-f8f137daa2d5",
   "metadata": {
    "tags": []
   },
   "source": [
    "# Real-time fraud detection with vector search for MemoryDB\n",
    "\n",
    "## 1. Components\n",
    "![Packages](images/AWS-OnAir_01-Architecture.png)"
   ]
  },
  {
   "cell_type": "markdown",
   "id": "550f5035-2003-4eeb-b5ee-dbf117e34adc",
   "metadata": {},
   "source": [
    "## 2. Install packages\n",
    "![Packages](images/AWS-OnAir_02-Packages.jpeg)"
   ]
  },
  {
   "cell_type": "code",
   "execution_count": 2,
   "id": "cac063a4",
   "metadata": {
    "tags": []
   },
   "outputs": [
    {
     "name": "stdout",
     "output_type": "stream",
     "text": [
      "Requirement already satisfied: pip in /home/ec2-user/anaconda3/envs/python3/lib/python3.10/site-packages (24.3.1)\n",
      "Requirement already satisfied: pandas in /home/ec2-user/anaconda3/envs/python3/lib/python3.10/site-packages (1.5.3)\n",
      "Requirement already satisfied: python-dateutil>=2.8.1 in /home/ec2-user/anaconda3/envs/python3/lib/python3.10/site-packages (from pandas) (2.9.0)\n",
      "Requirement already satisfied: pytz>=2020.1 in /home/ec2-user/anaconda3/envs/python3/lib/python3.10/site-packages (from pandas) (2024.2)\n",
      "Requirement already satisfied: numpy>=1.21.0 in /home/ec2-user/anaconda3/envs/python3/lib/python3.10/site-packages (from pandas) (1.26.4)\n",
      "Requirement already satisfied: six>=1.5 in /home/ec2-user/anaconda3/envs/python3/lib/python3.10/site-packages (from python-dateutil>=2.8.1->pandas) (1.16.0)\n",
      "Requirement already satisfied: numpy in /home/ec2-user/anaconda3/envs/python3/lib/python3.10/site-packages (1.26.4)\n",
      "Requirement already satisfied: valkey in /home/ec2-user/anaconda3/envs/python3/lib/python3.10/site-packages (6.0.2)\n",
      "Requirement already satisfied: async-timeout>=4.0.3 in /home/ec2-user/anaconda3/envs/python3/lib/python3.10/site-packages (from valkey) (4.0.3)\n"
     ]
    }
   ],
   "source": [
    "# Install/upgrade pip and other packages in the current Jupyter kernel\n",
    "import sys\n",
    "!{sys.executable} -m pip install --upgrade pip\n",
    "!{sys.executable} -m pip install pandas\n",
    "!{sys.executable} -m pip install numpy\n",
    "!{sys.executable} -m pip install -U valkey # Note the Valkey library"
   ]
  },
  {
   "cell_type": "code",
   "execution_count": 3,
   "id": "c8db2060",
   "metadata": {
    "tags": []
   },
   "outputs": [],
   "source": [
    "import pandas as pd\n",
    "import numpy as np\n",
    "import uuid\n",
    "import datetime\n",
    "import os\n",
    "import time\n",
    "\n",
    "from valkey.commands.search.field import VectorField, TextField\n",
    "from valkey.commands.search.field import NumericField, TagField\n",
    "from valkey.commands.search.query import Query\n",
    "from valkey.commands.search.result import Result\n",
    "from valkey.commands.search.indexDefinition import IndexDefinition, IndexType\n",
    "from valkey.cluster import ValkeyCluster as MemoryDB"
   ]
  },
  {
   "cell_type": "markdown",
   "id": "bd4e4186",
   "metadata": {},
   "source": [
    "## 3. Connect to MemoryDB\n",
    "![Packages](images/AWS-OnAir_03-Connection.jpeg)"
   ]
  },
  {
   "cell_type": "code",
   "execution_count": 12,
   "id": "e0b52f03-5605-4c45-b910-e6c952031214",
   "metadata": {
    "collapsed": true,
    "jupyter": {
     "outputs_hidden": true,
     "source_hidden": true
    },
    "tags": []
   },
   "outputs": [
    {
     "name": "stdout",
     "output_type": "stream",
     "text": [
      "env: MEMORYDB_HOST=clustercfg.rag-vss.73c0e5.memorydb.us-east-1.amazonaws.com\n",
      "env: MEMORYDB_PORT=6379\n"
     ]
    }
   ],
   "source": [
    "%env MEMORYDB_HOST=clustercfg.rag-vss.73c0e5.memorydb.us-east-1.amazonaws.com\n",
    "%env MEMORYDB_PORT=6379"
   ]
  },
  {
   "cell_type": "code",
   "execution_count": 13,
   "id": "d37ac1c6",
   "metadata": {
    "tags": []
   },
   "outputs": [
    {
     "name": "stdout",
     "output_type": "stream",
     "text": [
      "Ping status of MemoryDB = True\n"
     ]
    }
   ],
   "source": [
    "memorydb_host = os.environ.get(\"MEMORYDB_HOST\", \"localhost\")\n",
    "memorydb_port = os.environ.get(\"MEMORYDB_PORT\", 6379)\n",
    "\n",
    "mdb = MemoryDB(host=memorydb_host, port=memorydb_port, ssl=True, decode_responses=False, ssl_cert_reqs=\"none\")\n",
    "\n",
    "print(\"Ping status of MemoryDB = \" + str(mdb.ping()))"
   ]
  },
  {
   "cell_type": "markdown",
   "id": "8cded2de-47d5-427f-ac6d-37ebda616dcd",
   "metadata": {
    "tags": []
   },
   "source": [
    "## 4. [Credit Card Fraud Detection Source](https://www.kaggle.com/datasets/mlg-ulb/creditcardfraud)\n",
    "\n",
    "This dataset presents transactions that occurred in two days, where we have __492__ _frauds_ out of __284,807__ _transactions_.  \n",
    "The dataset is highly unbalanced, the 1 Class (_frauds_) account for __0.172%__ of all _transactions_.\n",
    "\n",
    "It contains only numerical input variables:\n",
    "    \n",
    "- Feature __'Time'__ contains the seconds elapsed between each transaction and the first transaction in the dataset.\n",
    "- Features __V1__, __V2__, and __V28__ Are 28 dimensions of vectorized (_embeddings created_) data representing transaction details such a time location and so on.\n",
    "- Feature __'Amount'__ is the transaction Amount, this feature can be used for example-dependant cost-sensitive learning.\n",
    "- Feature __'Class'__ is the response variable and it takes value 1 in case of fraud and 0 otherwise.\n",
    "\n",
    "![Packages](images/AWS-OnAir_04-NeedleHaystack.jpeg)"
   ]
  },
  {
   "cell_type": "code",
   "execution_count": 5,
   "id": "43e770bc-e934-4703-b90f-e823535c5cf6",
   "metadata": {
    "tags": []
   },
   "outputs": [
    {
     "name": "stdout",
     "output_type": "stream",
     "text": [
      "Number of rows in dataset: 284,807 Number of columns: 31\n",
      "\n"
     ]
    },
    {
     "data": {
      "text/html": [
       "<div>\n",
       "<style scoped>\n",
       "    .dataframe tbody tr th:only-of-type {\n",
       "        vertical-align: middle;\n",
       "    }\n",
       "\n",
       "    .dataframe tbody tr th {\n",
       "        vertical-align: top;\n",
       "    }\n",
       "\n",
       "    .dataframe thead th {\n",
       "        text-align: right;\n",
       "    }\n",
       "</style>\n",
       "<table border=\"1\" class=\"dataframe\">\n",
       "  <thead>\n",
       "    <tr style=\"text-align: right;\">\n",
       "      <th></th>\n",
       "      <th>Time</th>\n",
       "      <th>V1</th>\n",
       "      <th>V2</th>\n",
       "      <th>V3</th>\n",
       "      <th>V4</th>\n",
       "      <th>V5</th>\n",
       "      <th>V6</th>\n",
       "      <th>V7</th>\n",
       "      <th>V8</th>\n",
       "      <th>V9</th>\n",
       "      <th>...</th>\n",
       "      <th>V21</th>\n",
       "      <th>V22</th>\n",
       "      <th>V23</th>\n",
       "      <th>V24</th>\n",
       "      <th>V25</th>\n",
       "      <th>V26</th>\n",
       "      <th>V27</th>\n",
       "      <th>V28</th>\n",
       "      <th>Amount</th>\n",
       "      <th>Class</th>\n",
       "    </tr>\n",
       "  </thead>\n",
       "  <tbody>\n",
       "    <tr>\n",
       "      <th>0</th>\n",
       "      <td>0.0</td>\n",
       "      <td>-1.359807</td>\n",
       "      <td>-0.072781</td>\n",
       "      <td>2.536347</td>\n",
       "      <td>1.378155</td>\n",
       "      <td>-0.338321</td>\n",
       "      <td>0.462388</td>\n",
       "      <td>0.239599</td>\n",
       "      <td>0.098698</td>\n",
       "      <td>0.363787</td>\n",
       "      <td>...</td>\n",
       "      <td>-0.018307</td>\n",
       "      <td>0.277838</td>\n",
       "      <td>-0.110474</td>\n",
       "      <td>0.066928</td>\n",
       "      <td>0.128539</td>\n",
       "      <td>-0.189115</td>\n",
       "      <td>0.133558</td>\n",
       "      <td>-0.021053</td>\n",
       "      <td>149.62</td>\n",
       "      <td>0</td>\n",
       "    </tr>\n",
       "    <tr>\n",
       "      <th>1</th>\n",
       "      <td>0.0</td>\n",
       "      <td>1.191857</td>\n",
       "      <td>0.266151</td>\n",
       "      <td>0.166480</td>\n",
       "      <td>0.448154</td>\n",
       "      <td>0.060018</td>\n",
       "      <td>-0.082361</td>\n",
       "      <td>-0.078803</td>\n",
       "      <td>0.085102</td>\n",
       "      <td>-0.255425</td>\n",
       "      <td>...</td>\n",
       "      <td>-0.225775</td>\n",
       "      <td>-0.638672</td>\n",
       "      <td>0.101288</td>\n",
       "      <td>-0.339846</td>\n",
       "      <td>0.167170</td>\n",
       "      <td>0.125895</td>\n",
       "      <td>-0.008983</td>\n",
       "      <td>0.014724</td>\n",
       "      <td>2.69</td>\n",
       "      <td>0</td>\n",
       "    </tr>\n",
       "    <tr>\n",
       "      <th>2</th>\n",
       "      <td>1.0</td>\n",
       "      <td>-1.358354</td>\n",
       "      <td>-1.340163</td>\n",
       "      <td>1.773209</td>\n",
       "      <td>0.379780</td>\n",
       "      <td>-0.503198</td>\n",
       "      <td>1.800499</td>\n",
       "      <td>0.791461</td>\n",
       "      <td>0.247676</td>\n",
       "      <td>-1.514654</td>\n",
       "      <td>...</td>\n",
       "      <td>0.247998</td>\n",
       "      <td>0.771679</td>\n",
       "      <td>0.909412</td>\n",
       "      <td>-0.689281</td>\n",
       "      <td>-0.327642</td>\n",
       "      <td>-0.139097</td>\n",
       "      <td>-0.055353</td>\n",
       "      <td>-0.059752</td>\n",
       "      <td>378.66</td>\n",
       "      <td>0</td>\n",
       "    </tr>\n",
       "    <tr>\n",
       "      <th>3</th>\n",
       "      <td>1.0</td>\n",
       "      <td>-0.966272</td>\n",
       "      <td>-0.185226</td>\n",
       "      <td>1.792993</td>\n",
       "      <td>-0.863291</td>\n",
       "      <td>-0.010309</td>\n",
       "      <td>1.247203</td>\n",
       "      <td>0.237609</td>\n",
       "      <td>0.377436</td>\n",
       "      <td>-1.387024</td>\n",
       "      <td>...</td>\n",
       "      <td>-0.108300</td>\n",
       "      <td>0.005274</td>\n",
       "      <td>-0.190321</td>\n",
       "      <td>-1.175575</td>\n",
       "      <td>0.647376</td>\n",
       "      <td>-0.221929</td>\n",
       "      <td>0.062723</td>\n",
       "      <td>0.061458</td>\n",
       "      <td>123.50</td>\n",
       "      <td>0</td>\n",
       "    </tr>\n",
       "    <tr>\n",
       "      <th>4</th>\n",
       "      <td>2.0</td>\n",
       "      <td>-1.158233</td>\n",
       "      <td>0.877737</td>\n",
       "      <td>1.548718</td>\n",
       "      <td>0.403034</td>\n",
       "      <td>-0.407193</td>\n",
       "      <td>0.095921</td>\n",
       "      <td>0.592941</td>\n",
       "      <td>-0.270533</td>\n",
       "      <td>0.817739</td>\n",
       "      <td>...</td>\n",
       "      <td>-0.009431</td>\n",
       "      <td>0.798278</td>\n",
       "      <td>-0.137458</td>\n",
       "      <td>0.141267</td>\n",
       "      <td>-0.206010</td>\n",
       "      <td>0.502292</td>\n",
       "      <td>0.219422</td>\n",
       "      <td>0.215153</td>\n",
       "      <td>69.99</td>\n",
       "      <td>0</td>\n",
       "    </tr>\n",
       "  </tbody>\n",
       "</table>\n",
       "<p>5 rows × 31 columns</p>\n",
       "</div>"
      ],
      "text/plain": [
       "   Time        V1        V2        V3        V4        V5        V6        V7  \\\n",
       "0   0.0 -1.359807 -0.072781  2.536347  1.378155 -0.338321  0.462388  0.239599   \n",
       "1   0.0  1.191857  0.266151  0.166480  0.448154  0.060018 -0.082361 -0.078803   \n",
       "2   1.0 -1.358354 -1.340163  1.773209  0.379780 -0.503198  1.800499  0.791461   \n",
       "3   1.0 -0.966272 -0.185226  1.792993 -0.863291 -0.010309  1.247203  0.237609   \n",
       "4   2.0 -1.158233  0.877737  1.548718  0.403034 -0.407193  0.095921  0.592941   \n",
       "\n",
       "         V8        V9  ...       V21       V22       V23       V24       V25  \\\n",
       "0  0.098698  0.363787  ... -0.018307  0.277838 -0.110474  0.066928  0.128539   \n",
       "1  0.085102 -0.255425  ... -0.225775 -0.638672  0.101288 -0.339846  0.167170   \n",
       "2  0.247676 -1.514654  ...  0.247998  0.771679  0.909412 -0.689281 -0.327642   \n",
       "3  0.377436 -1.387024  ... -0.108300  0.005274 -0.190321 -1.175575  0.647376   \n",
       "4 -0.270533  0.817739  ... -0.009431  0.798278 -0.137458  0.141267 -0.206010   \n",
       "\n",
       "        V26       V27       V28  Amount  Class  \n",
       "0 -0.189115  0.133558 -0.021053  149.62      0  \n",
       "1  0.125895 -0.008983  0.014724    2.69      0  \n",
       "2 -0.139097 -0.055353 -0.059752  378.66      0  \n",
       "3 -0.221929  0.062723  0.061458  123.50      0  \n",
       "4  0.502292  0.219422  0.215153   69.99      0  \n",
       "\n",
       "[5 rows x 31 columns]"
      ]
     },
     "execution_count": 5,
     "metadata": {},
     "output_type": "execute_result"
    }
   ],
   "source": [
    "df = pd.read_csv(\"data/creditcard.csv\")\n",
    "\n",
    "print(f\"Number of rows in dataset: {df.shape[0]:,} Number of columns: {df.shape[1]:,}\\n\")\n",
    "\n",
    "df.head()"
   ]
  },
  {
   "cell_type": "code",
   "execution_count": 6,
   "id": "d7b26c63-692b-4a42-8aed-5b31ce3cb909",
   "metadata": {
    "tags": []
   },
   "outputs": [
    {
     "name": "stdout",
     "output_type": "stream",
     "text": [
      "Number of columns in dataset: 32\n",
      "\n",
      "0    [-1.359807134, -0.072781173, 2.536346738, 1.37...\n",
      "1    [1.191857111, 0.266150712, 0.166480113, 0.4481...\n",
      "2    [-1.358354062, -1.340163075, 1.773209343, 0.37...\n",
      "3    [-0.966271712, -0.185226008, 1.79299334, -0.86...\n",
      "4    [-1.158233093, 0.877736755, 1.548717847, 0.403...\n",
      "\n",
      "Number of rows in fraud only dataset: 492\n",
      "\n"
     ]
    }
   ],
   "source": [
    "# Validate data\n",
    "# Ensure the specified columns exist in the DataFrame\n",
    "\n",
    "embedding_columns = [f'V{i}' for i in range(1, 29)]\n",
    "\n",
    "missing_columns = [col for col in embedding_columns if col not in df.columns]\n",
    "if missing_columns:\n",
    "    raise ValueError(f\"The following embedding columns are missing from the DataFrame: {missing_columns}\")\n",
    "\n",
    "df['Vector'] = df[embedding_columns].values.tolist()\n",
    "\n",
    "print(f\"Number of columns in dataset: {df.shape[1]:,}\\n\")\n",
    "print(f\"{df['Vector'].head().to_string()}\\n\")\n",
    "\n",
    "# fraud_only_df = df.query('Class == 1').tail(10)\n",
    "df_filtered = df.query('Class == 1')\n",
    "fraud_only_df = df_filtered.reset_index(drop=True)\n",
    "print(f\"Number of rows in fraud only dataset: {fraud_only_df.shape[0]:,}\\n\")"
   ]
  },
  {
   "cell_type": "markdown",
   "id": "011c7ce7",
   "metadata": {},
   "source": [
    "## 5. Create index in MemoryDB\n",
    "\n",
    "![Packages](images/AWS-OnAir_05-Index.jpeg)"
   ]
  },
  {
   "cell_type": "code",
   "execution_count": 9,
   "id": "361d1384",
   "metadata": {
    "tags": []
   },
   "outputs": [],
   "source": [
    "def generate_key(prefix = \"\"):\n",
    "    return prefix + str(uuid.uuid4())\n",
    "\n",
    "def create_hnsw_index(mdb, index_name, vector_field_name, initial_size, \n",
    "                      vector_dimensions=len(embedding_columns), distance_metric='L2', M_EDGES=16, EF_CONSTRUCT=512, key_prefix=''):\n",
    "    # Create the MemoryDB index\n",
    "    # larger M value increases the number of edges thus creating a more connected graph helping with recall but consumes more memory\n",
    "    # Larger EF_CONSTRUCTION has a larger dynamic candidate list during construction. This leads to a more thorough search during construction and longer construction time\n",
    "    # Larger EF_RUNTIME examines more vectors during query execution resulting in better recall but taking longer to complete left at default value of 10\n",
    "    # Distance Metrics L2->Euclidean distance. | IP->Dot product | COSINE->the angle between vectors\n",
    "\n",
    "    # Drop the index if it exits so that you can re-run this block of code.\n",
    "    # print( mdb.ft(index_name).info())\n",
    "\n",
    "    # Create a new index\n",
    "    try:\n",
    "        mdb.ft(index_name).create_index([\n",
    "            VectorField(vector_field_name, \n",
    "                        \"HNSW\", {\n",
    "                            \"TYPE\": \"FLOAT32\",\n",
    "                            \"DIM\": vector_dimensions,\n",
    "                            \"DISTANCE_METRIC\": distance_metric,\n",
    "                            \"INITIAL_CAP\": initial_size,\n",
    "                            \"M\": M_EDGES,\n",
    "                            \"EF_CONSTRUCTION\": EF_CONSTRUCT\n",
    "                        }\n",
    "                ),\n",
    "            NumericField(\"amount\"),\n",
    "            NumericField(\"class\")\n",
    "            ],\n",
    "            definition=IndexDefinition(prefix=[key_prefix])\n",
    "        )\n",
    "        print(f\"Index {index_name} created successfully.\")\n",
    "\n",
    "    except Exception as e:\n",
    "        print(f\"Index {index_name} created previously: {str(e)}\")"
   ]
  },
  {
   "cell_type": "markdown",
   "id": "c239f017",
   "metadata": {},
   "source": [
    "## Behind the scenes\n",
    "```\n",
    "FT.CREATE \"ccfd_hnsw_index\"\n",
    "ON HASH\n",
    "PREFIX \"1\" \"tsx:\"\n",
    "SCHEMA \"vector\" \n",
    "VECTOR \"HNSW\" \"12\" \"TYPE\" \"FLOAT32\" \"DIM\" \"28\" \"DISTANCE_METRIC\" \"Cosine\" \n",
    "INITIAL_CAP \"274807\" \"M\" \"16\" \n",
    "EF_CONSTRUCTION \"512\" \"amount\" \"NUMERIC\" \"class\" \"NUMERIC\"\n",
    "```\n",
    "\n",
    "![Packages](images/AWS-OnAir_08-KNNdistanceMetrics.png)"
   ]
  },
  {
   "cell_type": "code",
   "execution_count": 10,
   "id": "1d1b1fe9",
   "metadata": {
    "tags": []
   },
   "outputs": [
    {
     "name": "stdout",
     "output_type": "stream",
     "text": [
      "Creating Vector Index ccfd_hnsw_index on Field VEC Expecting 482 vectors\n",
      "Index ccfd_hnsw_index created successfully.\n",
      "\n",
      "Vector Information: {'index_name': 'ccfd_hnsw_index', 'creation_timestamp': 1731507851151127, 'key_type': 'HASH', 'key_prefixes': [b'tsx:'], 'fields': [[b'identifier', b'VEC', b'field_name', b'VEC', b'type', b'VECTOR', b'option', b'', b'vector_params', [b'algorithm', b'HNSW', b'data_type', b'FLOAT32', b'dimension', 28, b'distance_metric', b'COSINE', b'initial_capacity', 482, b'current_capacity', 482, b'maximum_edges', 16, b'ef_construction', 512, b'ef_runtime', 10, b'epsilon', b'0.01']], [b'identifier', b'amount', b'field_name', b'amount', b'type', b'NUMERIC', b'option', b''], [b'identifier', b'class', b'field_name', b'class', b'type', b'NUMERIC', b'option', b'']], 'space_usage': 629170, 'fulltext_space_usage': 0, 'vector_space_usage': 629170, 'num_docs': 0, 'num_indexed_vectors': 0, 'current_lag': 0, 'index_status': 'QUEUED', 'index_degradation_percentage': 0}\n",
      "\n",
      "Number of indexed vectors: 0\n"
     ]
    }
   ],
   "source": [
    "KEY_PREFIX = \"tsx:\"\n",
    "vector_field_name = \"VEC\"\n",
    "index_name = \"ccfd_hnsw_index\"\n",
    "number_of_vectors = fraud_only_df.shape[0] - 10  # do not add the last 10 fraudulent rows\n",
    "vector_dimensions = len(embedding_columns)       # vector dimension is the number of embedded/vector columns only\n",
    "\n",
    "print(f\"Creating Vector Index {index_name} on Field {vector_field_name} Expecting {number_of_vectors:,} vectors\")\n",
    "\n",
    "# First clean up  MemoryDB\n",
    "mdb.flushall()\n",
    "# mdb.ft(index_name).dropindex()\n",
    "\n",
    "# Create an emtpy index in MemoryDB\n",
    "create_hnsw_index(mdb, index_name, vector_field_name, number_of_vectors, \n",
    "                 vector_dimensions=vector_dimensions, distance_metric='Cosine', M_EDGES=16, EF_CONSTRUCT=512, key_prefix=KEY_PREFIX)\n",
    "\n",
    "print(f\"\\nVector Information: {mdb.ft(index_name).info()}\")\n",
    "print(f\"\\nNumber of indexed vectors: {mdb.ft(index_name).info()['num_indexed_vectors']}\")"
   ]
  },
  {
   "cell_type": "markdown",
   "id": "b4a4ac26",
   "metadata": {},
   "source": [
    "6. Load vector embeddings into MemoryDB\n",
    "\n",
    "![Index](images/AWS-OnAir_06-Load.jpeg)"
   ]
  },
  {
   "cell_type": "code",
   "execution_count": 11,
   "id": "bac1391e-f619-4c72-8c76-b9c3e0e3817e",
   "metadata": {
    "tags": []
   },
   "outputs": [
    {
     "data": {
      "application/vnd.jupyter.widget-view+json": {
       "model_id": "af53c8603736431b8760cf5df0fb33c1",
       "version_major": 2,
       "version_minor": 0
      },
      "text/plain": [
       "  0%|          | 0/481 [00:00<?, ?it/s]"
      ]
     },
     "metadata": {},
     "output_type": "display_data"
    },
    {
     "name": "stdout",
     "output_type": "stream",
     "text": [
      "\n",
      "Data indexed successfully. Keys created: 481\n",
      "\n",
      "Indexed info: {'index_name': 'ccfd_hnsw_index', 'creation_timestamp': 1731507851151127, 'key_type': 'HASH', 'key_prefixes': [b'tsx:'], 'fields': [[b'identifier', b'VEC', b'field_name', b'VEC', b'type', b'VECTOR', b'option', b'', b'vector_params', [b'algorithm', b'HNSW', b'data_type', b'FLOAT32', b'dimension', 28, b'distance_metric', b'COSINE', b'initial_capacity', 482, b'current_capacity', 482, b'maximum_edges', 16, b'ef_construction', 512, b'ef_runtime', 10, b'epsilon', b'0.01']], [b'identifier', b'amount', b'field_name', b'amount', b'type', b'NUMERIC', b'option', b''], [b'identifier', b'class', b'field_name', b'class', b'type', b'NUMERIC', b'option', b'']], 'space_usage': 817805, 'fulltext_space_usage': 45133, 'vector_space_usage': 772672, 'num_docs': 401, 'num_indexed_vectors': 463, 'current_lag': 0, 'index_status': 'AVAILABLE', 'index_degradation_percentage': 0}\n",
      "\n",
      "Number of indexed vectors: 482\n",
      "\n",
      "CPU times: user 114 ms, sys: 4.57 ms, total: 118 ms\n",
      "Wall time: 1.23 s\n"
     ]
    }
   ],
   "source": [
    "%%time\n",
    "# Load data into MemoryDB\n",
    "BATCH_SIZE = 100\n",
    "\n",
    "# Import tqdm for jupyter notebook\n",
    "from tqdm.notebook import tqdm\n",
    "# Enable tqdm for Pandas\n",
    "tqdm.pandas()\n",
    "\n",
    "pipe = mdb.pipeline()\n",
    "\n",
    "for index, row in tqdm(fraud_only_df.loc[:number_of_vectors-1].iterrows(), total=number_of_vectors-1):\n",
    "    key = generate_key(prefix=KEY_PREFIX)\n",
    "    vector = np.array(row['Vector'], dtype=np.float32).tobytes()\n",
    "    \n",
    "    pipe.hset(key, mapping={\n",
    "        vector_field_name: vector,\n",
    "        'amount': row['Amount'],\n",
    "        'class': row['Class']\n",
    "        })\n",
    "    \n",
    "    if index % BATCH_SIZE == 0:\n",
    "        pipe.execute()\n",
    "        pipe = mdb.pipeline()\n",
    "    \n",
    "pipe.execute()\n",
    "\n",
    "print(f\"\\nData indexed successfully. Keys created: {index}\\n\")\n",
    "print(f\"Indexed info: {mdb.ft(index_name).info()}\")\n",
    "time.sleep(1)\n",
    "print(f\"\\nNumber of indexed vectors: {mdb.ft(index_name).info()['num_indexed_vectors']}\\n\")"
   ]
  },
  {
   "cell_type": "markdown",
   "id": "13bf9ca5",
   "metadata": {},
   "source": [
    "## 7. Find fraudulent transactions\n",
    "\n",
    "![Find-Tsx](images/AWS-OnAir_07-Find.jpeg)"
   ]
  },
  {
   "cell_type": "code",
   "execution_count": 12,
   "id": "aec6cdf1-24a1-45d6-b8a0-30002680a4ad",
   "metadata": {
    "tags": []
   },
   "outputs": [],
   "source": [
    "def similarity_search(mdb, index_name, query_vector, top_n=5):\n",
    "\n",
    "    # Convert the query vector to bytes\n",
    "    query_vector_bytes = np.array(query_vector, dtype=np.float32).tobytes()\n",
    "\n",
    "    # Create the query\n",
    "    query = Query(f\"*=>[KNN {top_n} @VEC $query_vec AS score ]\") \\\n",
    "        .sort_by(\"score\") \\\n",
    "        .return_fields(\"score\", \"amount\", \"class\") \\\n",
    "        .paging(0, top_n) \\\n",
    "        .dialect(2)\n",
    "\n",
    "    params = {\n",
    "        \"query_vec\": query_vector_bytes,\n",
    "        \"EF_RUNTIME\": 64\n",
    "    }\n",
    "\n",
    "    # Process the query\n",
    "    result = mdb.ft(index_name).search(query, query_params=params).docs\n",
    "    return result"
   ]
  },
  {
   "cell_type": "code",
   "execution_count": 16,
   "id": "91170b2a",
   "metadata": {
    "tags": []
   },
   "outputs": [
    {
     "name": "stdout",
     "output_type": "stream",
     "text": [
      "274382      0.00\n",
      "274475     39.90\n",
      "275992    634.30\n",
      "276071     19.95\n",
      "276864    349.08\n",
      "279863    390.00\n",
      "280143      0.76\n",
      "280149     77.89\n",
      "281144    245.00\n",
      "281674     42.53\n"
     ]
    }
   ],
   "source": [
    "\n",
    "result = df.query('Class == 1')['Amount'].tail(10)\n",
    "print(result.to_string())\n"
   ]
  },
  {
   "cell_type": "code",
   "execution_count": 19,
   "id": "478cca6d",
   "metadata": {
    "tags": []
   },
   "outputs": [
    {
     "name": "stdout",
     "output_type": "stream",
     "text": [
      "Vector tsx:415558da-7c1f-4bff-91cd-4df0df1b1223 has a score 0.44\n",
      "Vector tsx:a24e3397-2e34-4bbc-b4e7-bb0b92fd9da1 has a score 0.4\n",
      "Vector tsx:f1f45421-18c3-4bbc-85fa-de173237fc6e has a score 0.39\n",
      "Vector tsx:22602a0a-571d-4323-bd5b-0f5edf7e6108 has a score 0.39\n",
      "Vector tsx:270f6b7c-89f5-4475-94c6-2a0bffd73937 has a score 0.32\n",
      "\n",
      "\n",
      "CPU times: user 2.07 ms, sys: 0 ns, total: 2.07 ms\n",
      "Wall time: 2.74 ms\n"
     ]
    }
   ],
   "source": [
    "%%time\n",
    "\n",
    "query_vector = df.iloc[281143]['Vector']\n",
    "\n",
    "results = similarity_search(mdb, index_name, query_vector, top_n=5)\n",
    "\n",
    "# print(results)\n",
    "\n",
    "for doc in results:\n",
    "        score = round(1 - float(doc.score), 2)\n",
    "        id = doc.id\n",
    "        print(f\"Vector {id} has a score {score}\")\n",
    "        # amount = doc.amount\n",
    "        # print(f\"Vector {id} has a score {score} for the amount {amount}\")\n",
    "print(\"\\n\")"
   ]
  },
  {
   "cell_type": "markdown",
   "id": "e6f5bc51",
   "metadata": {
    "tags": []
   },
   "source": [
    "### Query behind the scenes\n",
    "\n",
    "```\n",
    "FT.SEARCH \"ccfd_hnsw_index\" \"*=>[KNN 5 @vector $query_vec AS score]\" \n",
    "RETURN \"2\" \"amount\" \"class\" \n",
    "SORTBY \"score\" \"ASC\" \"DIALECT\" \"2\" \"LIMIT\" \"0\" \"5\" \n",
    "\"params\" \"2\" \"query_vec\" \"\\x1e!2\\xbf\\x0b\\xef\\x14?\\x184\\x18@\\xbd\\xd5\\x81=?\\x82\\xa8>\\xa5T\\xe6\\xbe\\...\\xbf\"\n",
    "```"
   ]
  }
 ],
 "metadata": {
  "kernelspec": {
   "display_name": "conda_python3",
   "language": "python",
   "name": "conda_python3"
  },
  "language_info": {
   "codemirror_mode": {
    "name": "ipython",
    "version": 3
   },
   "file_extension": ".py",
   "mimetype": "text/x-python",
   "name": "python",
   "nbconvert_exporter": "python",
   "pygments_lexer": "ipython3",
   "version": "3.10.15"
  }
 },
 "nbformat": 4,
 "nbformat_minor": 5
}
