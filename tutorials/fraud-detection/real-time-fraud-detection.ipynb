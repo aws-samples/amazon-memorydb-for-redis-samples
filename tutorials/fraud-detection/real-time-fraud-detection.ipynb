{
 "cells": [
  {
   "cell_type": "code",
   "execution_count": null,
   "id": "58c0eeca-9b58-4d6f-b9ba-7a87de52e382",
   "metadata": {
    "tags": []
   },
   "outputs": [],
   "source": [
    "%env MEMORYDB_HOST=clustercfg.memorydb.XXXXXX.memorydb.us-east-1.amazonaws.com\n",
    "%env MEMORYDB_PORT=6379"
   ]
  },
  {
   "cell_type": "markdown",
   "id": "0250736f-4f33-4f5d-af90-88052ae46a7f",
   "metadata": {},
   "source": [
    "# Real-time fraud detection with vector search for MemoryDB\n",
    "\n",
    "## 1. Architecture\n",
    "![Architecture](img/AWS-OnAir_01-Architecture.png)"
   ]
  },
  {
   "cell_type": "markdown",
   "id": "133219c2-f913-491c-9766-263576b8340d",
   "metadata": {},
   "source": [
    "## 2. Install packages\n",
    "![Packages](img/AWS-OnAir_02-Packages.jpeg)"
   ]
  },
  {
   "cell_type": "code",
   "execution_count": 2,
   "id": "7ad2965a-2b4a-4ce1-98f6-9c220c6b6890",
   "metadata": {
    "tags": []
   },
   "outputs": [
    {
     "name": "stdout",
     "output_type": "stream",
     "text": [
      "Requirement already satisfied: pandas in /home/ec2-user/anaconda3/envs/python3/lib/python3.10/site-packages (2.2.1)\n",
      "Requirement already satisfied: numpy<2,>=1.22.4 in /home/ec2-user/anaconda3/envs/python3/lib/python3.10/site-packages (from pandas) (1.22.4)\n",
      "Requirement already satisfied: python-dateutil>=2.8.2 in /home/ec2-user/anaconda3/envs/python3/lib/python3.10/site-packages (from pandas) (2.9.0)\n",
      "Requirement already satisfied: pytz>=2020.1 in /home/ec2-user/anaconda3/envs/python3/lib/python3.10/site-packages (from pandas) (2024.1)\n",
      "Requirement already satisfied: tzdata>=2022.7 in /home/ec2-user/anaconda3/envs/python3/lib/python3.10/site-packages (from pandas) (2024.1)\n",
      "Requirement already satisfied: six>=1.5 in /home/ec2-user/anaconda3/envs/python3/lib/python3.10/site-packages (from python-dateutil>=2.8.2->pandas) (1.16.0)\n",
      "Requirement already satisfied: numpy in /home/ec2-user/anaconda3/envs/python3/lib/python3.10/site-packages (1.22.4)\n",
      "Requirement already satisfied: redis in /home/ec2-user/anaconda3/envs/python3/lib/python3.10/site-packages (5.0.4)\n",
      "Requirement already satisfied: async-timeout>=4.0.3 in /home/ec2-user/anaconda3/envs/python3/lib/python3.10/site-packages (from redis) (4.0.3)\n"
     ]
    }
   ],
   "source": [
    "# Install a pip package in the current Jupyter kernel\n",
    "import sys\n",
    "!{sys.executable} -m pip install pandas\n",
    "!{sys.executable} -m pip install numpy\n",
    "!{sys.executable} -m pip install redis"
   ]
  },
  {
   "cell_type": "code",
   "execution_count": 3,
   "id": "ef86a6d3-893c-4f3a-8790-a7617cff24ac",
   "metadata": {
    "tags": []
   },
   "outputs": [],
   "source": [
    "import pandas as pd\n",
    "import numpy as np\n",
    "import uuid\n",
    "#from sentence_transformers import SentenceTransformer\n",
    "import datetime\n",
    "import os\n",
    "import redis\n",
    "import time\n",
    "from redis.commands.search.field import VectorField\n",
    "from redis.commands.search.field import TextField, NumericField\n",
    "from redis.commands.search.field import TagField\n",
    "from redis.commands.search.query import Query\n",
    "from redis.commands.search.result import Result\n",
    "from redis.cluster import RedisCluster as MemoryDB\n",
    "from redis.commands.search.field import VectorField, TextField, NumericField\n",
    "from redis.commands.search.indexDefinition import IndexDefinition, IndexType\n"
   ]
  },
  {
   "cell_type": "markdown",
   "id": "7bab758a-69dc-4e39-92ab-28eda25bd05e",
   "metadata": {},
   "source": [
    "## 3. Connect to MemoryDB\n",
    "\n",
    "![Connection](img/AWS-OnAir_03-Connection.jpeg)"
   ]
  },
  {
   "cell_type": "code",
   "execution_count": 4,
   "id": "191bac97-dbe5-4e4a-8fb1-dc397c8a4c91",
   "metadata": {
    "tags": []
   },
   "outputs": [
    {
     "name": "stdout",
     "output_type": "stream",
     "text": [
      "CPU times: user 75.9 ms, sys: 0 ns, total: 75.9 ms\n",
      "Wall time: 92.8 ms\n"
     ]
    },
    {
     "data": {
      "text/plain": [
       "True"
      ]
     },
     "execution_count": 4,
     "metadata": {},
     "output_type": "execute_result"
    }
   ],
   "source": [
    "%%time\n",
    "memorydb_host = os.environ.get(\"MEMORYDB_HOST\", \"localhost\")\n",
    "memorydb_port = os.environ.get(\"MEMORYDB_PORT\", 6379)\n",
    "# print(f\"MemoryDB Url = {memorydb_host}:{memorydb_port}\")\n",
    "rc = MemoryDB(host=memorydb_host, port=memorydb_port, ssl=True, decode_responses=False, ssl_cert_reqs=\"none\")\n",
    "rc.ping()\n",
    "# rc.flushall()"
   ]
  },
  {
   "cell_type": "markdown",
   "id": "7b7f0857-f63b-44bc-b46b-4fbe29148c2b",
   "metadata": {},
   "source": [
    "## 4. [Credit Card Fraud Detection Source](https://www.kaggle.com/datasets/mlg-ulb/creditcardfraud)\n",
    "\n",
    "This dataset presents transactions that occurred in two days, where we have __492__ _frauds_ out of __284,807__ _transactions_.  \n",
    "The dataset is highly unbalanced, the positive class (_frauds_) account for __0.172%__ of all _transactions_.\n",
    "\n",
    "It contains only numerical input variables:\n",
    "- Features __V1__, __V2__, … __V28__, 'Time' 'Amount' and 'Class'.\n",
    "- Feature __'Time'__ contains the seconds elapsed between each transaction and the first transaction in the dataset.\n",
    "- Feature __'Amount'__ is the transaction Amount, this feature can be used for example-dependant cost-sensitive learning.\n",
    "- Feature __'Class'__ is the response variable and it takes value 1 in case of fraud and 0 otherwise.\n",
    "\n",
    "![CreditCardFraud](img/AWS-OnAir_04-NeedleHaystack.jpeg)"
   ]
  },
  {
   "cell_type": "code",
   "execution_count": 5,
   "id": "25a4e29c-c3a7-4178-ac0a-e1d8958ddc70",
   "metadata": {
    "tags": []
   },
   "outputs": [
    {
     "data": {
      "text/html": [
       "<div>\n",
       "<style scoped>\n",
       "    .dataframe tbody tr th:only-of-type {\n",
       "        vertical-align: middle;\n",
       "    }\n",
       "\n",
       "    .dataframe tbody tr th {\n",
       "        vertical-align: top;\n",
       "    }\n",
       "\n",
       "    .dataframe thead th {\n",
       "        text-align: right;\n",
       "    }\n",
       "</style>\n",
       "<table border=\"1\" class=\"dataframe\">\n",
       "  <thead>\n",
       "    <tr style=\"text-align: right;\">\n",
       "      <th></th>\n",
       "      <th>Time</th>\n",
       "      <th>V1</th>\n",
       "      <th>V2</th>\n",
       "      <th>V3</th>\n",
       "      <th>V4</th>\n",
       "      <th>V5</th>\n",
       "      <th>V6</th>\n",
       "      <th>V7</th>\n",
       "      <th>V8</th>\n",
       "      <th>V9</th>\n",
       "      <th>...</th>\n",
       "      <th>V21</th>\n",
       "      <th>V22</th>\n",
       "      <th>V23</th>\n",
       "      <th>V24</th>\n",
       "      <th>V25</th>\n",
       "      <th>V26</th>\n",
       "      <th>V27</th>\n",
       "      <th>V28</th>\n",
       "      <th>Amount</th>\n",
       "      <th>Class</th>\n",
       "    </tr>\n",
       "  </thead>\n",
       "  <tbody>\n",
       "    <tr>\n",
       "      <th>0</th>\n",
       "      <td>0.0</td>\n",
       "      <td>-1.359807</td>\n",
       "      <td>-0.072781</td>\n",
       "      <td>2.536347</td>\n",
       "      <td>1.378155</td>\n",
       "      <td>-0.338321</td>\n",
       "      <td>0.462388</td>\n",
       "      <td>0.239599</td>\n",
       "      <td>0.098698</td>\n",
       "      <td>0.363787</td>\n",
       "      <td>...</td>\n",
       "      <td>-0.018307</td>\n",
       "      <td>0.277838</td>\n",
       "      <td>-0.110474</td>\n",
       "      <td>0.066928</td>\n",
       "      <td>0.128539</td>\n",
       "      <td>-0.189115</td>\n",
       "      <td>0.133558</td>\n",
       "      <td>-0.021053</td>\n",
       "      <td>149.62</td>\n",
       "      <td>0</td>\n",
       "    </tr>\n",
       "    <tr>\n",
       "      <th>1</th>\n",
       "      <td>0.0</td>\n",
       "      <td>1.191857</td>\n",
       "      <td>0.266151</td>\n",
       "      <td>0.166480</td>\n",
       "      <td>0.448154</td>\n",
       "      <td>0.060018</td>\n",
       "      <td>-0.082361</td>\n",
       "      <td>-0.078803</td>\n",
       "      <td>0.085102</td>\n",
       "      <td>-0.255425</td>\n",
       "      <td>...</td>\n",
       "      <td>-0.225775</td>\n",
       "      <td>-0.638672</td>\n",
       "      <td>0.101288</td>\n",
       "      <td>-0.339846</td>\n",
       "      <td>0.167170</td>\n",
       "      <td>0.125895</td>\n",
       "      <td>-0.008983</td>\n",
       "      <td>0.014724</td>\n",
       "      <td>2.69</td>\n",
       "      <td>0</td>\n",
       "    </tr>\n",
       "    <tr>\n",
       "      <th>2</th>\n",
       "      <td>1.0</td>\n",
       "      <td>-1.358354</td>\n",
       "      <td>-1.340163</td>\n",
       "      <td>1.773209</td>\n",
       "      <td>0.379780</td>\n",
       "      <td>-0.503198</td>\n",
       "      <td>1.800499</td>\n",
       "      <td>0.791461</td>\n",
       "      <td>0.247676</td>\n",
       "      <td>-1.514654</td>\n",
       "      <td>...</td>\n",
       "      <td>0.247998</td>\n",
       "      <td>0.771679</td>\n",
       "      <td>0.909412</td>\n",
       "      <td>-0.689281</td>\n",
       "      <td>-0.327642</td>\n",
       "      <td>-0.139097</td>\n",
       "      <td>-0.055353</td>\n",
       "      <td>-0.059752</td>\n",
       "      <td>378.66</td>\n",
       "      <td>0</td>\n",
       "    </tr>\n",
       "    <tr>\n",
       "      <th>3</th>\n",
       "      <td>1.0</td>\n",
       "      <td>-0.966272</td>\n",
       "      <td>-0.185226</td>\n",
       "      <td>1.792993</td>\n",
       "      <td>-0.863291</td>\n",
       "      <td>-0.010309</td>\n",
       "      <td>1.247203</td>\n",
       "      <td>0.237609</td>\n",
       "      <td>0.377436</td>\n",
       "      <td>-1.387024</td>\n",
       "      <td>...</td>\n",
       "      <td>-0.108300</td>\n",
       "      <td>0.005274</td>\n",
       "      <td>-0.190321</td>\n",
       "      <td>-1.175575</td>\n",
       "      <td>0.647376</td>\n",
       "      <td>-0.221929</td>\n",
       "      <td>0.062723</td>\n",
       "      <td>0.061458</td>\n",
       "      <td>123.50</td>\n",
       "      <td>0</td>\n",
       "    </tr>\n",
       "    <tr>\n",
       "      <th>4</th>\n",
       "      <td>2.0</td>\n",
       "      <td>-1.158233</td>\n",
       "      <td>0.877737</td>\n",
       "      <td>1.548718</td>\n",
       "      <td>0.403034</td>\n",
       "      <td>-0.407193</td>\n",
       "      <td>0.095921</td>\n",
       "      <td>0.592941</td>\n",
       "      <td>-0.270533</td>\n",
       "      <td>0.817739</td>\n",
       "      <td>...</td>\n",
       "      <td>-0.009431</td>\n",
       "      <td>0.798278</td>\n",
       "      <td>-0.137458</td>\n",
       "      <td>0.141267</td>\n",
       "      <td>-0.206010</td>\n",
       "      <td>0.502292</td>\n",
       "      <td>0.219422</td>\n",
       "      <td>0.215153</td>\n",
       "      <td>69.99</td>\n",
       "      <td>0</td>\n",
       "    </tr>\n",
       "  </tbody>\n",
       "</table>\n",
       "<p>5 rows × 31 columns</p>\n",
       "</div>"
      ],
      "text/plain": [
       "   Time        V1        V2        V3        V4        V5        V6        V7  \\\n",
       "0   0.0 -1.359807 -0.072781  2.536347  1.378155 -0.338321  0.462388  0.239599   \n",
       "1   0.0  1.191857  0.266151  0.166480  0.448154  0.060018 -0.082361 -0.078803   \n",
       "2   1.0 -1.358354 -1.340163  1.773209  0.379780 -0.503198  1.800499  0.791461   \n",
       "3   1.0 -0.966272 -0.185226  1.792993 -0.863291 -0.010309  1.247203  0.237609   \n",
       "4   2.0 -1.158233  0.877737  1.548718  0.403034 -0.407193  0.095921  0.592941   \n",
       "\n",
       "         V8        V9  ...       V21       V22       V23       V24       V25  \\\n",
       "0  0.098698  0.363787  ... -0.018307  0.277838 -0.110474  0.066928  0.128539   \n",
       "1  0.085102 -0.255425  ... -0.225775 -0.638672  0.101288 -0.339846  0.167170   \n",
       "2  0.247676 -1.514654  ...  0.247998  0.771679  0.909412 -0.689281 -0.327642   \n",
       "3  0.377436 -1.387024  ... -0.108300  0.005274 -0.190321 -1.175575  0.647376   \n",
       "4 -0.270533  0.817739  ... -0.009431  0.798278 -0.137458  0.141267 -0.206010   \n",
       "\n",
       "        V26       V27       V28  Amount  Class  \n",
       "0 -0.189115  0.133558 -0.021053  149.62      0  \n",
       "1  0.125895 -0.008983  0.014724    2.69      0  \n",
       "2 -0.139097 -0.055353 -0.059752  378.66      0  \n",
       "3 -0.221929  0.062723  0.061458  123.50      0  \n",
       "4  0.502292  0.219422  0.215153   69.99      0  \n",
       "\n",
       "[5 rows x 31 columns]"
      ]
     },
     "execution_count": 5,
     "metadata": {},
     "output_type": "execute_result"
    }
   ],
   "source": [
    "df = pd.read_csv(\"creditcard.csv\")\n",
    "df.head()"
   ]
  },
  {
   "cell_type": "code",
   "execution_count": 6,
   "id": "bdab2be8-f18a-4099-b611-bc56d2067d28",
   "metadata": {
    "tags": []
   },
   "outputs": [
    {
     "name": "stdout",
     "output_type": "stream",
     "text": [
      "Number of rows in dataset 284,807\n"
     ]
    }
   ],
   "source": [
    "num_rows = df.shape[0]\n",
    "print(f\"Number of rows in dataset {num_rows:,}\")"
   ]
  },
  {
   "cell_type": "code",
   "execution_count": 7,
   "id": "04197ce7-1726-4f6f-a82a-118366bc2414",
   "metadata": {
    "tags": []
   },
   "outputs": [
    {
     "name": "stdout",
     "output_type": "stream",
     "text": [
      "Number of rows in dataset 274,807\n"
     ]
    }
   ],
   "source": [
    "slice = num_rows - 10_000\n",
    "newDF = df.iloc[:slice]\n",
    "# newDF=df\n",
    "#df_dropped = newDF.drop(columns=['Time', 'Amount', 'Class'])\n",
    "num_rows = newDF.shape[0]\n",
    "print(f\"Number of rows in dataset {num_rows:,}\")"
   ]
  },
  {
   "cell_type": "code",
   "execution_count": 8,
   "id": "355a9b13-2f07-4943-abbd-266dfbbac908",
   "metadata": {
    "tags": []
   },
   "outputs": [
    {
     "name": "stdout",
     "output_type": "stream",
     "text": [
      "CPU times: user 545 ms, sys: 148 ms, total: 693 ms\n",
      "Wall time: 695 ms\n"
     ]
    }
   ],
   "source": [
    "%%time\n",
    "embedding_columns = [f'V{i}' for i in range(1, 29)]\n",
    "# Ensure the specified columns exist in the DataFrame\n",
    "missing_columns = [col for col in embedding_columns if col not in df.columns]\n",
    "if missing_columns:\n",
    "    raise ValueError(f\"The following embedding columns are missing from the DataFrame: {missing_columns}\")\n",
    "# Convert the specified columns into a list of lists (each row is a list)\n",
    "vectors = newDF[embedding_columns].values.tolist()"
   ]
  },
  {
   "cell_type": "code",
   "execution_count": 13,
   "id": "098ed64b-b9e6-4a44-9710-10c15f7620f9",
   "metadata": {
    "tags": []
   },
   "outputs": [
    {
     "name": "stderr",
     "output_type": "stream",
     "text": [
      "/tmp/ipykernel_24900/1843890925.py:1: SettingWithCopyWarning: \n",
      "A value is trying to be set on a copy of a slice from a DataFrame.\n",
      "Try using .loc[row_indexer,col_indexer] = value instead\n",
      "\n",
      "See the caveats in the documentation: https://pandas.pydata.org/pandas-docs/stable/user_guide/indexing.html#returning-a-view-versus-a-copy\n",
      "  newDF['vector'] = vectors\n"
     ]
    },
    {
     "data": {
      "text/html": [
       "<div>\n",
       "<style scoped>\n",
       "    .dataframe tbody tr th:only-of-type {\n",
       "        vertical-align: middle;\n",
       "    }\n",
       "\n",
       "    .dataframe tbody tr th {\n",
       "        vertical-align: top;\n",
       "    }\n",
       "\n",
       "    .dataframe thead th {\n",
       "        text-align: right;\n",
       "    }\n",
       "</style>\n",
       "<table border=\"1\" class=\"dataframe\">\n",
       "  <thead>\n",
       "    <tr style=\"text-align: right;\">\n",
       "      <th></th>\n",
       "      <th>Time</th>\n",
       "      <th>V1</th>\n",
       "      <th>V2</th>\n",
       "      <th>V3</th>\n",
       "      <th>V4</th>\n",
       "      <th>V5</th>\n",
       "      <th>V6</th>\n",
       "      <th>V7</th>\n",
       "      <th>V8</th>\n",
       "      <th>V9</th>\n",
       "      <th>...</th>\n",
       "      <th>V22</th>\n",
       "      <th>V23</th>\n",
       "      <th>V24</th>\n",
       "      <th>V25</th>\n",
       "      <th>V26</th>\n",
       "      <th>V27</th>\n",
       "      <th>V28</th>\n",
       "      <th>Amount</th>\n",
       "      <th>Class</th>\n",
       "      <th>vector</th>\n",
       "    </tr>\n",
       "  </thead>\n",
       "  <tbody>\n",
       "    <tr>\n",
       "      <th>0</th>\n",
       "      <td>0.0</td>\n",
       "      <td>-1.359807</td>\n",
       "      <td>-0.072781</td>\n",
       "      <td>2.536347</td>\n",
       "      <td>1.378155</td>\n",
       "      <td>-0.338321</td>\n",
       "      <td>0.462388</td>\n",
       "      <td>0.239599</td>\n",
       "      <td>0.098698</td>\n",
       "      <td>0.363787</td>\n",
       "      <td>...</td>\n",
       "      <td>0.277838</td>\n",
       "      <td>-0.110474</td>\n",
       "      <td>0.066928</td>\n",
       "      <td>0.128539</td>\n",
       "      <td>-0.189115</td>\n",
       "      <td>0.133558</td>\n",
       "      <td>-0.021053</td>\n",
       "      <td>149.62</td>\n",
       "      <td>0</td>\n",
       "      <td>[-1.3598071336738, -0.0727811733098497, 2.5363...</td>\n",
       "    </tr>\n",
       "    <tr>\n",
       "      <th>1</th>\n",
       "      <td>0.0</td>\n",
       "      <td>1.191857</td>\n",
       "      <td>0.266151</td>\n",
       "      <td>0.166480</td>\n",
       "      <td>0.448154</td>\n",
       "      <td>0.060018</td>\n",
       "      <td>-0.082361</td>\n",
       "      <td>-0.078803</td>\n",
       "      <td>0.085102</td>\n",
       "      <td>-0.255425</td>\n",
       "      <td>...</td>\n",
       "      <td>-0.638672</td>\n",
       "      <td>0.101288</td>\n",
       "      <td>-0.339846</td>\n",
       "      <td>0.167170</td>\n",
       "      <td>0.125895</td>\n",
       "      <td>-0.008983</td>\n",
       "      <td>0.014724</td>\n",
       "      <td>2.69</td>\n",
       "      <td>0</td>\n",
       "      <td>[1.19185711131486, 0.26615071205963, 0.1664801...</td>\n",
       "    </tr>\n",
       "    <tr>\n",
       "      <th>2</th>\n",
       "      <td>1.0</td>\n",
       "      <td>-1.358354</td>\n",
       "      <td>-1.340163</td>\n",
       "      <td>1.773209</td>\n",
       "      <td>0.379780</td>\n",
       "      <td>-0.503198</td>\n",
       "      <td>1.800499</td>\n",
       "      <td>0.791461</td>\n",
       "      <td>0.247676</td>\n",
       "      <td>-1.514654</td>\n",
       "      <td>...</td>\n",
       "      <td>0.771679</td>\n",
       "      <td>0.909412</td>\n",
       "      <td>-0.689281</td>\n",
       "      <td>-0.327642</td>\n",
       "      <td>-0.139097</td>\n",
       "      <td>-0.055353</td>\n",
       "      <td>-0.059752</td>\n",
       "      <td>378.66</td>\n",
       "      <td>0</td>\n",
       "      <td>[-1.35835406159823, -1.34016307473609, 1.77320...</td>\n",
       "    </tr>\n",
       "    <tr>\n",
       "      <th>3</th>\n",
       "      <td>1.0</td>\n",
       "      <td>-0.966272</td>\n",
       "      <td>-0.185226</td>\n",
       "      <td>1.792993</td>\n",
       "      <td>-0.863291</td>\n",
       "      <td>-0.010309</td>\n",
       "      <td>1.247203</td>\n",
       "      <td>0.237609</td>\n",
       "      <td>0.377436</td>\n",
       "      <td>-1.387024</td>\n",
       "      <td>...</td>\n",
       "      <td>0.005274</td>\n",
       "      <td>-0.190321</td>\n",
       "      <td>-1.175575</td>\n",
       "      <td>0.647376</td>\n",
       "      <td>-0.221929</td>\n",
       "      <td>0.062723</td>\n",
       "      <td>0.061458</td>\n",
       "      <td>123.50</td>\n",
       "      <td>0</td>\n",
       "      <td>[-0.966271711572087, -0.185226008082898, 1.792...</td>\n",
       "    </tr>\n",
       "    <tr>\n",
       "      <th>4</th>\n",
       "      <td>2.0</td>\n",
       "      <td>-1.158233</td>\n",
       "      <td>0.877737</td>\n",
       "      <td>1.548718</td>\n",
       "      <td>0.403034</td>\n",
       "      <td>-0.407193</td>\n",
       "      <td>0.095921</td>\n",
       "      <td>0.592941</td>\n",
       "      <td>-0.270533</td>\n",
       "      <td>0.817739</td>\n",
       "      <td>...</td>\n",
       "      <td>0.798278</td>\n",
       "      <td>-0.137458</td>\n",
       "      <td>0.141267</td>\n",
       "      <td>-0.206010</td>\n",
       "      <td>0.502292</td>\n",
       "      <td>0.219422</td>\n",
       "      <td>0.215153</td>\n",
       "      <td>69.99</td>\n",
       "      <td>0</td>\n",
       "      <td>[-1.15823309349523, 0.877736754848451, 1.54871...</td>\n",
       "    </tr>\n",
       "  </tbody>\n",
       "</table>\n",
       "<p>5 rows × 32 columns</p>\n",
       "</div>"
      ],
      "text/plain": [
       "   Time        V1        V2        V3        V4        V5        V6        V7  \\\n",
       "0   0.0 -1.359807 -0.072781  2.536347  1.378155 -0.338321  0.462388  0.239599   \n",
       "1   0.0  1.191857  0.266151  0.166480  0.448154  0.060018 -0.082361 -0.078803   \n",
       "2   1.0 -1.358354 -1.340163  1.773209  0.379780 -0.503198  1.800499  0.791461   \n",
       "3   1.0 -0.966272 -0.185226  1.792993 -0.863291 -0.010309  1.247203  0.237609   \n",
       "4   2.0 -1.158233  0.877737  1.548718  0.403034 -0.407193  0.095921  0.592941   \n",
       "\n",
       "         V8        V9  ...       V22       V23       V24       V25       V26  \\\n",
       "0  0.098698  0.363787  ...  0.277838 -0.110474  0.066928  0.128539 -0.189115   \n",
       "1  0.085102 -0.255425  ... -0.638672  0.101288 -0.339846  0.167170  0.125895   \n",
       "2  0.247676 -1.514654  ...  0.771679  0.909412 -0.689281 -0.327642 -0.139097   \n",
       "3  0.377436 -1.387024  ...  0.005274 -0.190321 -1.175575  0.647376 -0.221929   \n",
       "4 -0.270533  0.817739  ...  0.798278 -0.137458  0.141267 -0.206010  0.502292   \n",
       "\n",
       "        V27       V28  Amount  Class  \\\n",
       "0  0.133558 -0.021053  149.62      0   \n",
       "1 -0.008983  0.014724    2.69      0   \n",
       "2 -0.055353 -0.059752  378.66      0   \n",
       "3  0.062723  0.061458  123.50      0   \n",
       "4  0.219422  0.215153   69.99      0   \n",
       "\n",
       "                                              vector  \n",
       "0  [-1.3598071336738, -0.0727811733098497, 2.5363...  \n",
       "1  [1.19185711131486, 0.26615071205963, 0.1664801...  \n",
       "2  [-1.35835406159823, -1.34016307473609, 1.77320...  \n",
       "3  [-0.966271711572087, -0.185226008082898, 1.792...  \n",
       "4  [-1.15823309349523, 0.877736754848451, 1.54871...  \n",
       "\n",
       "[5 rows x 32 columns]"
      ]
     },
     "execution_count": 13,
     "metadata": {},
     "output_type": "execute_result"
    }
   ],
   "source": [
    "newDF['vector'] = vectors\n",
    "newDF.head()"
   ]
  },
  {
   "cell_type": "code",
   "execution_count": 14,
   "id": "fabc49ed-d450-4352-a8ce-794b3285190a",
   "metadata": {
    "tags": []
   },
   "outputs": [
    {
     "name": "stdout",
     "output_type": "stream",
     "text": [
      "Number of rows in dataset 274,807\n"
     ]
    }
   ],
   "source": [
    "subset_df = newDF[['vector', 'Amount', 'Class']]\n",
    "subset_df.head()\n",
    "num_rows = subset_df.shape[0]\n",
    "print(f\"Number of rows in dataset {num_rows:,}\")"
   ]
  },
  {
   "cell_type": "markdown",
   "id": "10aae972-1638-4fbe-bf76-e758ba47e073",
   "metadata": {},
   "source": [
    "## 5. Create index in MemoryDB\n",
    "\n",
    "![Create-Index](img/AWS-OnAir_05-Index.jpeg)"
   ]
  },
  {
   "cell_type": "code",
   "execution_count": 15,
   "id": "2f501498-ea7c-40d8-a8af-f0a7b7415a38",
   "metadata": {
    "tags": []
   },
   "outputs": [],
   "source": [
    "def generate_key(prefix = \"\"):\n",
    "    return prefix + str(uuid.uuid4())"
   ]
  },
  {
   "cell_type": "code",
   "execution_count": 16,
   "id": "0252a8bd-8c82-4074-a5cf-597fe1b71841",
   "metadata": {
    "tags": []
   },
   "outputs": [],
   "source": [
    "def create_hnsw_index(rc, index_name, vector_field_name, number_of_vectors, vector_dimensions=28, distance_metric='L2', M=16, EF=512, key_prefix=''):\n",
    "    # Create the index\n",
    "    try:\n",
    "        rc.ft(index_name).create_index([\n",
    "            VectorField(vector_field_name, \"HNSW\", {\n",
    "                \"TYPE\": \"FLOAT32\",\n",
    "                \"DIM\": vector_dimensions,\n",
    "                \"DISTANCE_METRIC\": distance_metric,\n",
    "                \"INITIAL_CAP\": number_of_vectors,\n",
    "                \"M\": M,\n",
    "                \"EF_CONSTRUCTION\": EF\n",
    "            }),\n",
    "            NumericField(\"amount\"),\n",
    "            NumericField(\"class\")\n",
    "        ], definition=IndexDefinition(prefix=[key_prefix]))\n",
    "        print(f\"Index {index_name} created successfully.\")\n",
    "    except ResponseError as e:\n",
    "        print(f\"Index {index_name} created previously: {str(e)}\")"
   ]
  },
  {
   "cell_type": "markdown",
   "id": "39bb2c7b-2f33-4e1d-9b7d-6fb7311c8b5b",
   "metadata": {},
   "source": [
    "## Behind the scenes\n",
    "\n",
    "![KNNdistanceMetrics](img/AWS-OnAir_08-KNNdistanceMetrics.png)\n",
    "\n",
    "```\n",
    "FT.CREATE \"ccfd_hnsw_index\" \n",
    "PREFIX \"1\" \"tsx:\" \n",
    "SCORE \"1.0\" \n",
    "SCHEMA \"vector\" \n",
    "VECTOR \"HNSW\" \"12\" \"TYPE\" \"FLOAT32\" \"DIM\" \"28\" \"DISTANCE_METRIC\" \"Cosine\" \n",
    "INITIAL_CAP \"274807\" \"M\" \"16\" \n",
    "EF_CONSTRUCTION \"512\" \"amount\" \"NUMERIC\" \"class\" \"NUMERIC\"\n",
    "```"
   ]
  },
  {
   "cell_type": "code",
   "execution_count": 17,
   "id": "7af3e9c3-3c5e-451e-9ffd-b696df1038ad",
   "metadata": {
    "tags": []
   },
   "outputs": [
    {
     "name": "stdout",
     "output_type": "stream",
     "text": [
      "Creating Index ccfd_hnsw_index on Field vector expecting 274,807 vectors\n"
     ]
    }
   ],
   "source": [
    "KEY_PREFIX = \"tsx:\"\n",
    "index_name = \"ccfd_hnsw_index\"\n",
    "vector_field_name = \"vector\"\n",
    "number_of_vectors = len(subset_df)\n",
    "print(f\"Creating Index {index_name} on Field {vector_field_name} expecting {number_of_vectors:,} vectors\")"
   ]
  },
  {
   "cell_type": "code",
   "execution_count": 18,
   "id": "90d9d4b4-db09-4f37-b5b5-003ed7862c01",
   "metadata": {
    "tags": []
   },
   "outputs": [
    {
     "name": "stdout",
     "output_type": "stream",
     "text": [
      "Index ccfd_hnsw_index created successfully.\n",
      "CPU times: user 0 ns, sys: 1.7 ms, total: 1.7 ms\n",
      "Wall time: 9.66 ms\n"
     ]
    }
   ],
   "source": [
    "%%time\n",
    "# Create index in MemoryDB\n",
    "create_hnsw_index(rc, index_name, vector_field_name, number_of_vectors, \n",
    "                  vector_dimensions=28, distance_metric='Cosine', M=16, EF=512, key_prefix=KEY_PREFIX)"
   ]
  },
  {
   "cell_type": "markdown",
   "id": "a79eaab1-c1db-495a-82bf-d7531ea23d4f",
   "metadata": {},
   "source": [
    "## "
   ]
  },
  {
   "cell_type": "markdown",
   "id": "314ec188-69e2-4054-830f-bf9d0f808747",
   "metadata": {},
   "source": [
    "6. Load vector embeddings into MemoryDB\n",
    "\n",
    "![Index](img/AWS-OnAir_06-Load.jpeg)"
   ]
  },
  {
   "cell_type": "code",
   "execution_count": 19,
   "id": "6ab17515-9687-472a-9088-c49ea1180f92",
   "metadata": {
    "tags": []
   },
   "outputs": [
    {
     "name": "stdout",
     "output_type": "stream",
     "text": [
      "Data indexed successfully.\n",
      "CPU times: user 23.4 s, sys: 498 ms, total: 23.9 s\n",
      "Wall time: 1min 15s\n"
     ]
    }
   ],
   "source": [
    "%%time\n",
    "# Load data into MemoryDB\n",
    "BATCH_SIZE = 100\n",
    "pipe = rc.pipeline()\n",
    "for index, row in subset_df.iterrows():\n",
    "    key = generate_key(prefix=KEY_PREFIX)\n",
    "    vector = np.array(row['vector'], dtype=np.float32).tobytes()\n",
    "    pipe.hset(key, mapping={\n",
    "        'vector': vector,\n",
    "        'amount': row['Amount'],\n",
    "        'class': row['Class']\n",
    "    })\n",
    "    if index % BATCH_SIZE == 0 or index == number_of_vectors - 1:\n",
    "        pipe.execute()\n",
    "        pipe = rc.pipeline()\n",
    "print(\"Data indexed successfully.\")"
   ]
  },
  {
   "cell_type": "code",
   "execution_count": 20,
   "id": "0dcfb12f-f97d-4fee-bc2e-10974fd16398",
   "metadata": {
    "tags": []
   },
   "outputs": [
    {
     "name": "stdout",
     "output_type": "stream",
     "text": [
      "tsx:a9540106-5206-48fa-8615-4f6d67b8f390\n",
      "{b'class': b'0', b'vector': b'\\xcc^\\xfd?\\xe1\\x10\\xd8\\xbe\\xca7\\xe3\\xbe\\x03\\xbc\\xc3>2]\\xe9\\xbe8`\\x14\\xbd\\xc3\\x80\\'\\xbfJ\\xaeW=\\x97R\\xb7?\\xefHA\\xbe\\x88c\\x84\\xbfoX\\x08?\\x91\\xf5\\xb9>\\xd9\\xd7\\x82\\xbeAl\\r?I\\xd6\\x8e=|\\x12\\x06\\xbf\\x89\\xd9#>k\\xc2}\\xbeV\\xe41\\xbeliB>\\x07\\xfaF?\\xf4\\x17\\x10>|\\x00\"?\\xca\\xcc\\x8f\\xbdI\\x06s\\xbe\\x0c1&=\\x11}\\xf6\\xbc', b'amount': b'12.99'}\n",
      "CPU times: user 1.65 ms, sys: 57 µs, total: 1.71 ms\n",
      "Wall time: 5.47 ms\n"
     ]
    }
   ],
   "source": [
    "%%time\n",
    "# Add a python script to find a random key that stats with the prefix and fetch the value and show it\n",
    "count = 0\n",
    "while True:\n",
    "    count += 1\n",
    "    keyname = rc.randomkey()\n",
    "    keyname = keyname.decode('utf-8')\n",
    "    print(str(keyname))\n",
    "    if keyname.startswith(KEY_PREFIX) == True:\n",
    "        print(rc.hgetall(keyname))\n",
    "        break\n",
    "    elif count > 10:\n",
    "        break\n"
   ]
  },
  {
   "cell_type": "markdown",
   "id": "ddf4b7ea-6f29-40e9-b2b5-071c85bf41fa",
   "metadata": {},
   "source": [
    "## 7. Find fraudulent transactions\n",
    "\n",
    "![Find-Tsx](img/AWS-OnAir_07-Find.jpeg)"
   ]
  },
  {
   "cell_type": "code",
   "execution_count": 27,
   "id": "9d6d8da7-92d2-4f0e-b425-9a4da9f1c81e",
   "metadata": {
    "tags": []
   },
   "outputs": [
    {
     "data": {
      "text/html": [
       "<div>\n",
       "<style scoped>\n",
       "    .dataframe tbody tr th:only-of-type {\n",
       "        vertical-align: middle;\n",
       "    }\n",
       "\n",
       "    .dataframe tbody tr th {\n",
       "        vertical-align: top;\n",
       "    }\n",
       "\n",
       "    .dataframe thead th {\n",
       "        text-align: right;\n",
       "    }\n",
       "</style>\n",
       "<table border=\"1\" class=\"dataframe\">\n",
       "  <thead>\n",
       "    <tr style=\"text-align: right;\">\n",
       "      <th></th>\n",
       "      <th>vector</th>\n",
       "      <th>Amount</th>\n",
       "      <th>Class</th>\n",
       "    </tr>\n",
       "  </thead>\n",
       "  <tbody>\n",
       "    <tr>\n",
       "      <th>262560</th>\n",
       "      <td>[0.567539266873172, 3.30938527728796, -6.63126...</td>\n",
       "      <td>4.69</td>\n",
       "      <td>1</td>\n",
       "    </tr>\n",
       "    <tr>\n",
       "      <th>262826</th>\n",
       "      <td>[-0.417339782403896, 4.70005527392636, -7.5217...</td>\n",
       "      <td>0.77</td>\n",
       "      <td>1</td>\n",
       "    </tr>\n",
       "    <tr>\n",
       "      <th>263080</th>\n",
       "      <td>[2.13238602134104, 0.705607819703042, -3.53075...</td>\n",
       "      <td>1.00</td>\n",
       "      <td>1</td>\n",
       "    </tr>\n",
       "    <tr>\n",
       "      <th>263274</th>\n",
       "      <td>[-0.644277679025173, 5.00235242592827, -8.2527...</td>\n",
       "      <td>0.77</td>\n",
       "      <td>1</td>\n",
       "    </tr>\n",
       "    <tr>\n",
       "      <th>263324</th>\n",
       "      <td>[-0.848290216565114, 2.71988211593934, -6.1990...</td>\n",
       "      <td>127.14</td>\n",
       "      <td>1</td>\n",
       "    </tr>\n",
       "    <tr>\n",
       "      <th>263877</th>\n",
       "      <td>[-3.38760102859385, 3.97788074139497, -6.97858...</td>\n",
       "      <td>0.38</td>\n",
       "      <td>1</td>\n",
       "    </tr>\n",
       "    <tr>\n",
       "      <th>268375</th>\n",
       "      <td>[-5.23880773573245, 0.623013013517624, -5.7845...</td>\n",
       "      <td>39.98</td>\n",
       "      <td>1</td>\n",
       "    </tr>\n",
       "    <tr>\n",
       "      <th>272521</th>\n",
       "      <td>[-7.50392623748137, -0.360628009949399, -3.830...</td>\n",
       "      <td>12.31</td>\n",
       "      <td>1</td>\n",
       "    </tr>\n",
       "    <tr>\n",
       "      <th>274382</th>\n",
       "      <td>[-5.76687873469586, -8.40215367768915, 0.05654...</td>\n",
       "      <td>0.00</td>\n",
       "      <td>1</td>\n",
       "    </tr>\n",
       "    <tr>\n",
       "      <th>274475</th>\n",
       "      <td>[-0.956390354534089, 2.36159360978361, -3.1711...</td>\n",
       "      <td>39.90</td>\n",
       "      <td>1</td>\n",
       "    </tr>\n",
       "  </tbody>\n",
       "</table>\n",
       "</div>"
      ],
      "text/plain": [
       "                                                   vector  Amount  Class\n",
       "262560  [0.567539266873172, 3.30938527728796, -6.63126...    4.69      1\n",
       "262826  [-0.417339782403896, 4.70005527392636, -7.5217...    0.77      1\n",
       "263080  [2.13238602134104, 0.705607819703042, -3.53075...    1.00      1\n",
       "263274  [-0.644277679025173, 5.00235242592827, -8.2527...    0.77      1\n",
       "263324  [-0.848290216565114, 2.71988211593934, -6.1990...  127.14      1\n",
       "263877  [-3.38760102859385, 3.97788074139497, -6.97858...    0.38      1\n",
       "268375  [-5.23880773573245, 0.623013013517624, -5.7845...   39.98      1\n",
       "272521  [-7.50392623748137, -0.360628009949399, -3.830...   12.31      1\n",
       "274382  [-5.76687873469586, -8.40215367768915, 0.05654...    0.00      1\n",
       "274475  [-0.956390354534089, 2.36159360978361, -3.1711...   39.90      1"
      ]
     },
     "execution_count": 27,
     "metadata": {},
     "output_type": "execute_result"
    }
   ],
   "source": [
    "df_class_1 = subset_df.query('Class == 1').tail(10)\n",
    "df_class_1\n"
   ]
  },
  {
   "cell_type": "code",
   "execution_count": 28,
   "id": "7ad0f663-f978-4c7c-bbc4-866b36c3e7ca",
   "metadata": {
    "tags": []
   },
   "outputs": [
    {
     "name": "stdout",
     "output_type": "stream",
     "text": [
      "vector    [-0.848290216565114, 2.71988211593934, -6.1990...\n",
      "Amount                                               127.14\n",
      "Class                                                     1\n",
      "Name: 263324, dtype: object\n"
     ]
    }
   ],
   "source": [
    "selected_row = subset_df.iloc[263324]\n",
    "print(selected_row)\n",
    "query_vector = selected_row['vector']"
   ]
  },
  {
   "cell_type": "code",
   "execution_count": 29,
   "id": "7702e1d6-9a13-4750-98a0-dc0d69709675",
   "metadata": {
    "tags": []
   },
   "outputs": [],
   "source": [
    "def similarity_search(redis_client, index_name, query_vector, top_n=5):\n",
    "    # Convert the query vector to bytes\n",
    "    query_vector_bytes = np.array(query_vector, dtype=np.float32).tobytes()\n",
    "    # Create the query\n",
    "    query = Query(f\"*=>[KNN {top_n} @vector $query_vec AS score]\") \\\n",
    "        .sort_by(\"score\") \\\n",
    "        .return_fields( \"amount\", \"class\") \\\n",
    "        .paging(0, top_n) \\\n",
    "        .dialect(2)\n",
    "    params = {\n",
    "        \"query_vec\": query_vector_bytes\n",
    "    }\n",
    "    # Process the query\n",
    "    result = redis_client.ft(index_name).search(query, query_params=params)\n",
    "    return result"
   ]
  },
  {
   "cell_type": "markdown",
   "id": "55028e1d-e3c1-46b1-b6c8-81fe0747fcb4",
   "metadata": {},
   "source": [
    "### Query behind the scenes\n",
    "\n",
    "```\n",
    "FT.SEARCH \"ccfd_hnsw_index\" \"*=>[KNN 5 @vector $query_vec AS score]\" \n",
    "RETURN \"2\" \"amount\" \"class\" \n",
    "SORTBY \"score\" \"ASC\" \"DIALECT\" \"2\" \"LIMIT\" \"0\" \"5\" \n",
    "\"params\" \"2\" \"query_vec\" \"\\x1e!2\\xbf\\x0b\\xef\\x14?\\x184\\x18@\\xbd\\xd5\\x81=?\\x82\\xa8>\\xa5T\\xe6\\xbe\\...\\xbf\"\n",
    "```"
   ]
  },
  {
   "cell_type": "code",
   "execution_count": 30,
   "id": "e6884e48-ae98-469a-97be-078d1dd5ba2f",
   "metadata": {
    "tags": []
   },
   "outputs": [
    {
     "name": "stdout",
     "output_type": "stream",
     "text": [
      "CPU times: user 1.75 ms, sys: 0 ns, total: 1.75 ms\n",
      "Wall time: 1.94 ms\n"
     ]
    }
   ],
   "source": [
    "%%time\n",
    "results = similarity_search(rc, index_name, query_vector, top_n=5)"
   ]
  },
  {
   "cell_type": "code",
   "execution_count": 31,
   "id": "64c40089-ebc7-430a-8bd3-c1f116b1f26a",
   "metadata": {
    "tags": []
   },
   "outputs": [
    {
     "name": "stdout",
     "output_type": "stream",
     "text": [
      "ID: tsx:ea16bcc3-fc61-4d36-8805-3376cecba7e8, Amount: 127.14, Class: 1\n",
      "ID: tsx:176246c9-039c-4b3e-9901-e4b691bfea1d, Amount: 14.46, Class: 1\n",
      "ID: tsx:18b968d9-06ad-4c6f-889e-2543d8cb6b85, Amount: 310.42, Class: 1\n",
      "ID: tsx:4399be97-3e5e-436b-8697-85d5aa34ce14, Amount: 316.06, Class: 1\n",
      "ID: tsx:8ac9b05e-6aab-44db-b4de-e7d38181e97f, Amount: 316.06, Class: 1\n",
      "CPU times: user 319 µs, sys: 11 µs, total: 330 µs\n",
      "Wall time: 293 µs\n"
     ]
    }
   ],
   "source": [
    "%%time\n",
    "\n",
    "for doc in results.docs:\n",
    "    doc_id = doc.id\n",
    "  #  score = doc.score\n",
    "    amount = doc.amount\n",
    "    class_value = doc['class']  # Accessing with square brackets\n",
    "    print(f\"ID: {doc_id}, Amount: {amount}, Class: {class_value}\")"
   ]
  },
  {
   "cell_type": "code",
   "execution_count": null,
   "id": "8a339c20-9a26-430b-8138-7093733e83e7",
   "metadata": {},
   "outputs": [],
   "source": []
  }
 ],
 "metadata": {
  "kernelspec": {
   "display_name": "Python 3",
   "language": "python",
   "name": "python3"
  },
  "language_info": {
   "codemirror_mode": {
    "name": "ipython",
    "version": 3
   },
   "file_extension": ".py",
   "mimetype": "text/x-python",
   "name": "python",
   "nbconvert_exporter": "python",
   "pygments_lexer": "ipython3",
   "version": "3.12.3"
  }
 },
 "nbformat": 4,
 "nbformat_minor": 5
}
